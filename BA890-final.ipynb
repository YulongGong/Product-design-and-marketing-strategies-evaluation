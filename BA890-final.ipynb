{
  "nbformat": 4,
  "nbformat_minor": 0,
  "metadata": {
    "orig_nbformat": 4,
    "language_info": {
      "name": "python",
      "version": "3.8.3",
      "mimetype": "text/x-python",
      "codemirror_mode": {
        "name": "ipython",
        "version": 3
      },
      "pygments_lexer": "ipython3",
      "nbconvert_exporter": "python",
      "file_extension": ".py"
    },
    "kernelspec": {
      "name": "python3",
      "display_name": "Python 3.8.3 64-bit ('base': conda)"
    },
    "interpreter": {
      "hash": "dca0ade3e726a953b501b15e8e990130d2b7799f14cfd9f4271676035ebe5511"
    },
    "colab": {
      "name": "BA890.ipynb",
      "provenance": [],
      "collapsed_sections": [
        "giqFoV1RwAyf",
        "39v-Ay5nwAyn"
      ]
    }
  },
  "cells": [
    {
      "cell_type": "code",
      "metadata": {
        "id": "JahkPQuq_yb9"
      },
      "source": [
        "! pip install scikit-plot"
      ],
      "execution_count": null,
      "outputs": []
    },
    {
      "cell_type": "code",
      "metadata": {
        "id": "6A_oD3J-wAyb"
      },
      "source": [
        "import pandas as pd\n",
        "import numpy as np\n",
        "import matplotlib.pyplot as plt\n",
        "import seaborn as sns\n",
        "\n",
        "from sklearn.preprocessing import StandardScaler\n",
        "\n",
        "# For supervised\n",
        "from sklearn.model_selection import train_test_split, cross_val_score\n",
        "from sklearn.linear_model import LogisticRegression\n",
        "from xgboost import XGBClassifier\n",
        "from sklearn.metrics import classification_report,confusion_matrix,accuracy_score\n",
        "\n",
        "# For unsupervised learning\n",
        "# for distance and h-clustering\n",
        "from scipy.cluster.hierarchy import linkage, dendrogram, fcluster\n",
        "from scipy.spatial.distance import pdist, squareform\n",
        "\n",
        "# for kmean, dbscan\n",
        "from sklearn.cluster import KMeans, DBSCAN\n",
        "from sklearn.neighbors import NearestNeighbors\n",
        "\n",
        "# for PCA\n",
        "from sklearn.decomposition import PCA\n",
        "from sklearn.metrics import silhouette_samples, silhouette_score\n",
        "# for TSNE\n",
        "from sklearn.manifold import TSNE\n",
        "\n",
        "import scikitplot as skplt\n",
        "import warnings; warnings.simplefilter('ignore')"
      ],
      "execution_count": 70,
      "outputs": []
    },
    {
      "cell_type": "code",
      "metadata": {
        "colab": {
          "base_uri": "https://localhost:8080/",
          "height": 225
        },
        "id": "HH3XfHhzwAye",
        "outputId": "e67aed95-9ca9-4a68-d644-1f2981c00ba6"
      },
      "source": [
        "df = pd.read_csv('/content/Train.csv')\n",
        "df.head()"
      ],
      "execution_count": 2,
      "outputs": [
        {
          "output_type": "execute_result",
          "data": {
            "text/html": [
              "<div>\n",
              "<style scoped>\n",
              "    .dataframe tbody tr th:only-of-type {\n",
              "        vertical-align: middle;\n",
              "    }\n",
              "\n",
              "    .dataframe tbody tr th {\n",
              "        vertical-align: top;\n",
              "    }\n",
              "\n",
              "    .dataframe thead th {\n",
              "        text-align: right;\n",
              "    }\n",
              "</style>\n",
              "<table border=\"1\" class=\"dataframe\">\n",
              "  <thead>\n",
              "    <tr style=\"text-align: right;\">\n",
              "      <th></th>\n",
              "      <th>ID</th>\n",
              "      <th>Gender</th>\n",
              "      <th>Ever_Married</th>\n",
              "      <th>Age</th>\n",
              "      <th>Graduated</th>\n",
              "      <th>Profession</th>\n",
              "      <th>Work_Experience</th>\n",
              "      <th>Spending_Score</th>\n",
              "      <th>Family_Size</th>\n",
              "      <th>Var_1</th>\n",
              "      <th>Segmentation</th>\n",
              "    </tr>\n",
              "  </thead>\n",
              "  <tbody>\n",
              "    <tr>\n",
              "      <th>0</th>\n",
              "      <td>462809</td>\n",
              "      <td>Male</td>\n",
              "      <td>No</td>\n",
              "      <td>22</td>\n",
              "      <td>No</td>\n",
              "      <td>Healthcare</td>\n",
              "      <td>1.0</td>\n",
              "      <td>Low</td>\n",
              "      <td>4.0</td>\n",
              "      <td>Cat_4</td>\n",
              "      <td>D</td>\n",
              "    </tr>\n",
              "    <tr>\n",
              "      <th>1</th>\n",
              "      <td>462643</td>\n",
              "      <td>Female</td>\n",
              "      <td>Yes</td>\n",
              "      <td>38</td>\n",
              "      <td>Yes</td>\n",
              "      <td>Engineer</td>\n",
              "      <td>NaN</td>\n",
              "      <td>Average</td>\n",
              "      <td>3.0</td>\n",
              "      <td>Cat_4</td>\n",
              "      <td>A</td>\n",
              "    </tr>\n",
              "    <tr>\n",
              "      <th>2</th>\n",
              "      <td>466315</td>\n",
              "      <td>Female</td>\n",
              "      <td>Yes</td>\n",
              "      <td>67</td>\n",
              "      <td>Yes</td>\n",
              "      <td>Engineer</td>\n",
              "      <td>1.0</td>\n",
              "      <td>Low</td>\n",
              "      <td>1.0</td>\n",
              "      <td>Cat_6</td>\n",
              "      <td>B</td>\n",
              "    </tr>\n",
              "    <tr>\n",
              "      <th>3</th>\n",
              "      <td>461735</td>\n",
              "      <td>Male</td>\n",
              "      <td>Yes</td>\n",
              "      <td>67</td>\n",
              "      <td>Yes</td>\n",
              "      <td>Lawyer</td>\n",
              "      <td>0.0</td>\n",
              "      <td>High</td>\n",
              "      <td>2.0</td>\n",
              "      <td>Cat_6</td>\n",
              "      <td>B</td>\n",
              "    </tr>\n",
              "    <tr>\n",
              "      <th>4</th>\n",
              "      <td>462669</td>\n",
              "      <td>Female</td>\n",
              "      <td>Yes</td>\n",
              "      <td>40</td>\n",
              "      <td>Yes</td>\n",
              "      <td>Entertainment</td>\n",
              "      <td>NaN</td>\n",
              "      <td>High</td>\n",
              "      <td>6.0</td>\n",
              "      <td>Cat_6</td>\n",
              "      <td>A</td>\n",
              "    </tr>\n",
              "  </tbody>\n",
              "</table>\n",
              "</div>"
            ],
            "text/plain": [
              "       ID  Gender Ever_Married  ...  Family_Size  Var_1 Segmentation\n",
              "0  462809    Male           No  ...          4.0  Cat_4            D\n",
              "1  462643  Female          Yes  ...          3.0  Cat_4            A\n",
              "2  466315  Female          Yes  ...          1.0  Cat_6            B\n",
              "3  461735    Male          Yes  ...          2.0  Cat_6            B\n",
              "4  462669  Female          Yes  ...          6.0  Cat_6            A\n",
              "\n",
              "[5 rows x 11 columns]"
            ]
          },
          "metadata": {
            "tags": []
          },
          "execution_count": 2
        }
      ]
    },
    {
      "cell_type": "markdown",
      "metadata": {
        "id": "giqFoV1RwAyf"
      },
      "source": [
        "## Data integrity Checking"
      ]
    },
    {
      "cell_type": "code",
      "metadata": {
        "id": "xpKo6KTQwAyf"
      },
      "source": [
        "df.columns = df.columns.str.lower()"
      ],
      "execution_count": 3,
      "outputs": []
    },
    {
      "cell_type": "code",
      "metadata": {
        "colab": {
          "base_uri": "https://localhost:8080/"
        },
        "id": "hWoPZdnawAyg",
        "outputId": "36fafc13-2332-4088-b62d-b8e20d913012"
      },
      "source": [
        "df.info()"
      ],
      "execution_count": 4,
      "outputs": [
        {
          "output_type": "stream",
          "text": [
            "<class 'pandas.core.frame.DataFrame'>\n",
            "RangeIndex: 8068 entries, 0 to 8067\n",
            "Data columns (total 11 columns):\n",
            " #   Column           Non-Null Count  Dtype  \n",
            "---  ------           --------------  -----  \n",
            " 0   id               8068 non-null   int64  \n",
            " 1   gender           8068 non-null   object \n",
            " 2   ever_married     7928 non-null   object \n",
            " 3   age              8068 non-null   int64  \n",
            " 4   graduated        7990 non-null   object \n",
            " 5   profession       7944 non-null   object \n",
            " 6   work_experience  7239 non-null   float64\n",
            " 7   spending_score   8068 non-null   object \n",
            " 8   family_size      7733 non-null   float64\n",
            " 9   var_1            7992 non-null   object \n",
            " 10  segmentation     8068 non-null   object \n",
            "dtypes: float64(2), int64(2), object(7)\n",
            "memory usage: 693.5+ KB\n"
          ],
          "name": "stdout"
        }
      ]
    },
    {
      "cell_type": "code",
      "metadata": {
        "colab": {
          "base_uri": "https://localhost:8080/"
        },
        "id": "vkuJW7A3wAyg",
        "outputId": "68a7bd93-4409-45b7-a1df-c45e410199df"
      },
      "source": [
        "df.isna().sum()"
      ],
      "execution_count": 5,
      "outputs": [
        {
          "output_type": "execute_result",
          "data": {
            "text/plain": [
              "id                   0\n",
              "gender               0\n",
              "ever_married       140\n",
              "age                  0\n",
              "graduated           78\n",
              "profession         124\n",
              "work_experience    829\n",
              "spending_score       0\n",
              "family_size        335\n",
              "var_1               76\n",
              "segmentation         0\n",
              "dtype: int64"
            ]
          },
          "metadata": {
            "tags": []
          },
          "execution_count": 5
        }
      ]
    },
    {
      "cell_type": "markdown",
      "metadata": {
        "id": "0tts9ik2wAyh"
      },
      "source": [
        "> **From the box plot shown below, the median of the family size is 3 and there are two outliers. Since the outliers would affect the mean value, it would be reasonable to fill the nan of family size with the column median.**"
      ]
    },
    {
      "cell_type": "code",
      "metadata": {
        "colab": {
          "base_uri": "https://localhost:8080/",
          "height": 270
        },
        "id": "6BvPI-ISwAyh",
        "outputId": "1b1a3b54-7d11-479e-b6e2-5f6dea512f8f"
      },
      "source": [
        "sns.boxplot(y='family_size',data=df)"
      ],
      "execution_count": 6,
      "outputs": [
        {
          "output_type": "execute_result",
          "data": {
            "text/plain": [
              "<matplotlib.axes._subplots.AxesSubplot at 0x7f1708562b10>"
            ]
          },
          "metadata": {
            "tags": []
          },
          "execution_count": 6
        },
        {
          "output_type": "display_data",
          "data": {
            "image/png": "[encoded data removed]",
            "text/plain": [
              "<Figure size 432x288 with 1 Axes>"
            ]
          },
          "metadata": {
            "tags": [],
            "needs_background": "light"
          }
        }
      ]
    },
    {
      "cell_type": "code",
      "metadata": {
        "id": "7SRHKvPawAyi"
      },
      "source": [
        "df.family_size.fillna(df.family_size.median(),inplace=True)"
      ],
      "execution_count": 7,
      "outputs": []
    },
    {
      "cell_type": "markdown",
      "metadata": {
        "id": "Wvj0B4lowAyi"
      },
      "source": [
        ">**It is hard to get the missing profession of an individual based on the information given in this dataset. However, based on my personal experience, people with a profession tends to have work experience and are graduated. So I would fill in the missing in graduated column with Yes and work_experience column with the minimum of the work experience if the individual has a profession. Record will be dropped if the profession is missing(which is only 1.5% of the whole training data).** "
      ]
    },
    {
      "cell_type": "code",
      "metadata": {
        "id": "FXfb0mE5wAyi"
      },
      "source": [
        "df = df[df.profession.notnull()]"
      ],
      "execution_count": 8,
      "outputs": []
    },
    {
      "cell_type": "code",
      "metadata": {
        "id": "FmxXyEvfwAyj"
      },
      "source": [
        "df.graduated.fillna('Yes',inplace=True)"
      ],
      "execution_count": 9,
      "outputs": []
    },
    {
      "cell_type": "code",
      "metadata": {
        "id": "gT3_tFDFwAyj"
      },
      "source": [
        "df.work_experience.fillna(0,inplace=True)"
      ],
      "execution_count": 10,
      "outputs": []
    },
    {
      "cell_type": "code",
      "metadata": {
        "colab": {
          "base_uri": "https://localhost:8080/",
          "height": 270
        },
        "id": "nnUlz4HWwAyj",
        "outputId": "41ea14ec-3e76-4dee-be0a-f9f1b5cdf492"
      },
      "source": [
        "sns.boxplot(y='work_experience',data=df)"
      ],
      "execution_count": 11,
      "outputs": [
        {
          "output_type": "execute_result",
          "data": {
            "text/plain": [
              "<matplotlib.axes._subplots.AxesSubplot at 0x7f16f21ab2d0>"
            ]
          },
          "metadata": {
            "tags": []
          },
          "execution_count": 11
        },
        {
          "output_type": "display_data",
          "data": {
            "image/png": "[encoded data removed]",
            "text/plain": [
              "<Figure size 432x288 with 1 Axes>"
            ]
          },
          "metadata": {
            "tags": [],
            "needs_background": "light"
          }
        }
      ]
    },
    {
      "cell_type": "code",
      "metadata": {
        "colab": {
          "base_uri": "https://localhost:8080/",
          "height": 402
        },
        "id": "GsQc_vtpwAyj",
        "outputId": "3f71ba02-1817-4e1b-bf8d-1b3232ceb322"
      },
      "source": [
        "sns.catplot(kind='count',x='ever_married',data=df)"
      ],
      "execution_count": 12,
      "outputs": [
        {
          "output_type": "execute_result",
          "data": {
            "text/plain": [
              "<seaborn.axisgrid.FacetGrid at 0x7f16f21a4ad0>"
            ]
          },
          "metadata": {
            "tags": []
          },
          "execution_count": 12
        },
        {
          "output_type": "display_data",
          "data": {
            "image/png": "[encoded data removed]",
            "text/plain": [
              "<Figure size 360x360 with 1 Axes>"
            ]
          },
          "metadata": {
            "tags": [],
            "needs_background": "light"
          }
        }
      ]
    },
    {
      "cell_type": "markdown",
      "metadata": {
        "id": "ePxXlDXHwAyk"
      },
      "source": [
        ">**For the marital status, there is 136 observations out of 7944 which is only 1% of the current data, and I think it might affect how people choose a product and purchase behavior, so I will only keep those record which has martial status.**"
      ]
    },
    {
      "cell_type": "code",
      "metadata": {
        "id": "7IycYBe8wAyk"
      },
      "source": [
        "df = df[df.ever_married.notna()]"
      ],
      "execution_count": 13,
      "outputs": []
    },
    {
      "cell_type": "markdown",
      "metadata": {
        "id": "9uKMh1fzwAyk"
      },
      "source": [
        ">**For the var_1, which is an anonymised categories for customers, it has 7 unique observations and has nan values. It is hard to find how this categroies is decided based on. And there is 72 observations has nan in this column, which is 0.92% of the remaining data. To add as less noise as possible, I decided to remove those observations.** "
      ]
    },
    {
      "cell_type": "code",
      "metadata": {
        "colab": {
          "base_uri": "https://localhost:8080/"
        },
        "id": "iLB_C7yWwAyk",
        "outputId": "d714723c-17e4-4fb8-afb3-523bf724e786"
      },
      "source": [
        "df.var_1.unique()"
      ],
      "execution_count": 14,
      "outputs": [
        {
          "output_type": "execute_result",
          "data": {
            "text/plain": [
              "array(['Cat_4', 'Cat_6', 'Cat_7', 'Cat_3', 'Cat_1', 'Cat_2', nan, 'Cat_5'],\n",
              "      dtype=object)"
            ]
          },
          "metadata": {
            "tags": []
          },
          "execution_count": 14
        }
      ]
    },
    {
      "cell_type": "code",
      "metadata": {
        "id": "1jWb06SPwAyk"
      },
      "source": [
        "df=df[df.var_1.notna()]"
      ],
      "execution_count": 15,
      "outputs": []
    },
    {
      "cell_type": "markdown",
      "metadata": {
        "id": "WPCcLiDCwAyl"
      },
      "source": [
        ">**After handaling the missing value, I get 7736 observations out of 8068 observations. In other words, I droped around 5 percent of the oraiginal data. I think it is reasonable because we still have as many observations as needed to train the model.**"
      ]
    },
    {
      "cell_type": "code",
      "metadata": {
        "colab": {
          "base_uri": "https://localhost:8080/"
        },
        "id": "-gIesMx5wAyl",
        "outputId": "12781cb6-f305-4360-ae42-39c1a7c6fa4c"
      },
      "source": [
        "df.info()"
      ],
      "execution_count": 16,
      "outputs": [
        {
          "output_type": "stream",
          "text": [
            "<class 'pandas.core.frame.DataFrame'>\n",
            "Int64Index: 7736 entries, 0 to 8067\n",
            "Data columns (total 11 columns):\n",
            " #   Column           Non-Null Count  Dtype  \n",
            "---  ------           --------------  -----  \n",
            " 0   id               7736 non-null   int64  \n",
            " 1   gender           7736 non-null   object \n",
            " 2   ever_married     7736 non-null   object \n",
            " 3   age              7736 non-null   int64  \n",
            " 4   graduated        7736 non-null   object \n",
            " 5   profession       7736 non-null   object \n",
            " 6   work_experience  7736 non-null   float64\n",
            " 7   spending_score   7736 non-null   object \n",
            " 8   family_size      7736 non-null   float64\n",
            " 9   var_1            7736 non-null   object \n",
            " 10  segmentation     7736 non-null   object \n",
            "dtypes: float64(2), int64(2), object(7)\n",
            "memory usage: 725.2+ KB\n"
          ],
          "name": "stdout"
        }
      ]
    },
    {
      "cell_type": "code",
      "metadata": {
        "colab": {
          "base_uri": "https://localhost:8080/"
        },
        "id": "M94uLSuqwAyl",
        "outputId": "9e0d87a6-dd7b-4e17-90a8-ac9459d341a3"
      },
      "source": [
        "df.isna().sum()"
      ],
      "execution_count": 17,
      "outputs": [
        {
          "output_type": "execute_result",
          "data": {
            "text/plain": [
              "id                 0\n",
              "gender             0\n",
              "ever_married       0\n",
              "age                0\n",
              "graduated          0\n",
              "profession         0\n",
              "work_experience    0\n",
              "spending_score     0\n",
              "family_size        0\n",
              "var_1              0\n",
              "segmentation       0\n",
              "dtype: int64"
            ]
          },
          "metadata": {
            "tags": []
          },
          "execution_count": 17
        }
      ]
    },
    {
      "cell_type": "code",
      "metadata": {
        "colab": {
          "base_uri": "https://localhost:8080/",
          "height": 402
        },
        "id": "1rFF5C37wAyl",
        "outputId": "6108777d-ab57-4f4e-9642-0277b89a8aeb"
      },
      "source": [
        "sns.catplot(kind='count',x='var_1',data=df)"
      ],
      "execution_count": 18,
      "outputs": [
        {
          "output_type": "execute_result",
          "data": {
            "text/plain": [
              "<seaborn.axisgrid.FacetGrid at 0x7f16f20da110>"
            ]
          },
          "metadata": {
            "tags": []
          },
          "execution_count": 18
        },
        {
          "output_type": "display_data",
          "data": {
            "image/png": "[encoded data removed]",
            "text/plain": [
              "<Figure size 360x360 with 1 Axes>"
            ]
          },
          "metadata": {
            "tags": [],
            "needs_background": "light"
          }
        }
      ]
    },
    {
      "cell_type": "code",
      "metadata": {
        "colab": {
          "base_uri": "https://localhost:8080/"
        },
        "id": "8ZZxNmuXwAyn",
        "outputId": "cf9d3e67-85ed-4741-a6ff-7584c67a6579"
      },
      "source": [
        "df.info()"
      ],
      "execution_count": 19,
      "outputs": [
        {
          "output_type": "stream",
          "text": [
            "<class 'pandas.core.frame.DataFrame'>\n",
            "Int64Index: 7736 entries, 0 to 8067\n",
            "Data columns (total 11 columns):\n",
            " #   Column           Non-Null Count  Dtype  \n",
            "---  ------           --------------  -----  \n",
            " 0   id               7736 non-null   int64  \n",
            " 1   gender           7736 non-null   object \n",
            " 2   ever_married     7736 non-null   object \n",
            " 3   age              7736 non-null   int64  \n",
            " 4   graduated        7736 non-null   object \n",
            " 5   profession       7736 non-null   object \n",
            " 6   work_experience  7736 non-null   float64\n",
            " 7   spending_score   7736 non-null   object \n",
            " 8   family_size      7736 non-null   float64\n",
            " 9   var_1            7736 non-null   object \n",
            " 10  segmentation     7736 non-null   object \n",
            "dtypes: float64(2), int64(2), object(7)\n",
            "memory usage: 1.0+ MB\n"
          ],
          "name": "stdout"
        }
      ]
    },
    {
      "cell_type": "code",
      "metadata": {
        "colab": {
          "base_uri": "https://localhost:8080/"
        },
        "id": "k5V4G5y-w8LY",
        "outputId": "a2dbb056-c06e-400c-e87b-e593bd29ffe9"
      },
      "source": [
        "df.isna().sum()"
      ],
      "execution_count": 20,
      "outputs": [
        {
          "output_type": "execute_result",
          "data": {
            "text/plain": [
              "id                 0\n",
              "gender             0\n",
              "ever_married       0\n",
              "age                0\n",
              "graduated          0\n",
              "profession         0\n",
              "work_experience    0\n",
              "spending_score     0\n",
              "family_size        0\n",
              "var_1              0\n",
              "segmentation       0\n",
              "dtype: int64"
            ]
          },
          "metadata": {
            "tags": []
          },
          "execution_count": 20
        }
      ]
    },
    {
      "cell_type": "markdown",
      "metadata": {
        "id": "39v-Ay5nwAyn"
      },
      "source": [
        "## EDA"
      ]
    },
    {
      "cell_type": "markdown",
      "metadata": {
        "id": "vS8R5V8AwAyn"
      },
      "source": [
        ">It can be suggested that the company classified their customers into four groups, and group D has the most consumers, and group B has the least consumers. However, the number difference is small and I would see the group is divided relatively evenly."
      ]
    },
    {
      "cell_type": "code",
      "metadata": {
        "colab": {
          "base_uri": "https://localhost:8080/",
          "height": 297
        },
        "id": "jHqzftv5wAyn",
        "outputId": "8f4da838-4b8c-4ebc-87d6-95e5192beb5c"
      },
      "source": [
        "sns.countplot(x='segmentation',data=df)"
      ],
      "execution_count": 21,
      "outputs": [
        {
          "output_type": "execute_result",
          "data": {
            "text/plain": [
              "<matplotlib.axes._subplots.AxesSubplot at 0x7f16f262b6d0>"
            ]
          },
          "metadata": {
            "tags": []
          },
          "execution_count": 21
        },
        {
          "output_type": "display_data",
          "data": {
            "image/png": "[encoded data removed]",
            "text/plain": [
              "<Figure size 432x288 with 1 Axes>"
            ]
          },
          "metadata": {
            "tags": [],
            "needs_background": "light"
          }
        }
      ]
    },
    {
      "cell_type": "markdown",
      "metadata": {
        "id": "2TnktmckwAyn"
      },
      "source": [
        ">Their consumers have 9 professions, which contains healthcare, engineer,lawer, entertainment, artist,executive,doctor, homemaker and marketing. Among these professions, the number of artists is the largest, and the number of homemakers are the smallest. "
      ]
    },
    {
      "cell_type": "code",
      "metadata": {
        "colab": {
          "base_uri": "https://localhost:8080/",
          "height": 449
        },
        "id": "-F3bif_SwAyo",
        "outputId": "bccf1ea9-db49-4170-f94b-1b0da44267a9"
      },
      "source": [
        "sns.catplot(kind='count',x='profession',data=df).set_xticklabels(rotation=45)"
      ],
      "execution_count": 22,
      "outputs": [
        {
          "output_type": "execute_result",
          "data": {
            "text/plain": [
              "<seaborn.axisgrid.FacetGrid at 0x7f16e9da0a10>"
            ]
          },
          "metadata": {
            "tags": []
          },
          "execution_count": 22
        },
        {
          "output_type": "display_data",
          "data": {
            "image/png": "[encoded data removed]",
            "text/plain": [
              "<Figure size 360x360 with 1 Axes>"
            ]
          },
          "metadata": {
            "tags": [],
            "needs_background": "light"
          }
        }
      ]
    },
    {
      "cell_type": "markdown",
      "metadata": {
        "id": "J331amC7wAyo"
      },
      "source": [
        ">As I checked the professon distributions among these 4 groups, group D has the most healcare individuals, and group C has the most number of artist. However, for group B and group A, the difference is not big, which may indicate that the company may fail to design the correct number of product based on marketing segmentation."
      ]
    },
    {
      "cell_type": "code",
      "metadata": {
        "colab": {
          "base_uri": "https://localhost:8080/",
          "height": 282
        },
        "id": "-8WAqZKzwAyo",
        "outputId": "c142a8cd-27c4-4638-8d81-4f03a0bc9b7d"
      },
      "source": [
        "sns.catplot(kind='count',x='profession',col='segmentation',data=df).set_xticklabels(rotation=45)"
      ],
      "execution_count": 23,
      "outputs": [
        {
          "output_type": "execute_result",
          "data": {
            "text/plain": [
              "<seaborn.axisgrid.FacetGrid at 0x7f16f2178310>"
            ]
          },
          "metadata": {
            "tags": []
          },
          "execution_count": 23
        },
        {
          "output_type": "display_data",
          "data": {
            "image/png": "[encoded data removed]",
            "text/plain": [
              "<Figure size 1440x360 with 4 Axes>"
            ]
          },
          "metadata": {
            "tags": [],
            "needs_background": "light"
          }
        }
      ]
    },
    {
      "cell_type": "markdown",
      "metadata": {
        "id": "KhLw9jNwwAyo"
      },
      "source": [
        ">The dataset is distributed relatively evenly gender wise. There are more male than female. There are more male in segmentation D, for the other three segmentation, the gender is distributed similar to the trend we see in the whole dataset.Surprisingly, there are more male who has profession related to healthcare than female. And the number of female who is an engineer is larger than those who are male. "
      ]
    },
    {
      "cell_type": "code",
      "metadata": {
        "colab": {
          "base_uri": "https://localhost:8080/",
          "height": 401
        },
        "id": "mGKJzqwYwAyo",
        "outputId": "4f4cb1c1-07f3-491a-da48-81e84bff877b"
      },
      "source": [
        "sns.catplot(kind='count',x='gender',data=df)"
      ],
      "execution_count": 24,
      "outputs": [
        {
          "output_type": "execute_result",
          "data": {
            "text/plain": [
              "<seaborn.axisgrid.FacetGrid at 0x7f16e9c1f290>"
            ]
          },
          "metadata": {
            "tags": []
          },
          "execution_count": 24
        },
        {
          "output_type": "display_data",
          "data": {
            "image/png": "[encoded data removed]",
            "text/plain": [
              "<Figure size 360x360 with 1 Axes>"
            ]
          },
          "metadata": {
            "tags": [],
            "needs_background": "light"
          }
        }
      ]
    },
    {
      "cell_type": "code",
      "metadata": {
        "colab": {
          "base_uri": "https://localhost:8080/",
          "height": 253
        },
        "id": "Xdq1pziCwAyo",
        "outputId": "ac1aa3d5-0069-4912-b91b-3fa005cf2849"
      },
      "source": [
        "sns.catplot(kind='count',x='gender',data=df,col='segmentation')"
      ],
      "execution_count": 25,
      "outputs": [
        {
          "output_type": "execute_result",
          "data": {
            "text/plain": [
              "<seaborn.axisgrid.FacetGrid at 0x7f16ea088890>"
            ]
          },
          "metadata": {
            "tags": []
          },
          "execution_count": 25
        },
        {
          "output_type": "display_data",
          "data": {
            "image/png": "[encoded data removed]",
            "text/plain": [
              "<Figure size 1440x360 with 4 Axes>"
            ]
          },
          "metadata": {
            "tags": [],
            "needs_background": "light"
          }
        }
      ]
    },
    {
      "cell_type": "code",
      "metadata": {
        "colab": {
          "base_uri": "https://localhost:8080/",
          "height": 401
        },
        "id": "WjZMgn82wAyo",
        "outputId": "d1f0879e-fcb6-4be5-e14c-b2d7aab0959c"
      },
      "source": [
        "sns.catplot(kind='count',x='segmentation',data=df,col='gender')"
      ],
      "execution_count": 26,
      "outputs": [
        {
          "output_type": "execute_result",
          "data": {
            "text/plain": [
              "<seaborn.axisgrid.FacetGrid at 0x7f16e997a290>"
            ]
          },
          "metadata": {
            "tags": []
          },
          "execution_count": 26
        },
        {
          "output_type": "display_data",
          "data": {
            "image/png": "[encoded data removed]",
            "text/plain": [
              "<Figure size 720x360 with 2 Axes>"
            ]
          },
          "metadata": {
            "tags": [],
            "needs_background": "light"
          }
        }
      ]
    },
    {
      "cell_type": "code",
      "metadata": {
        "colab": {
          "base_uri": "https://localhost:8080/",
          "height": 449
        },
        "id": "SvpWmbEowAyp",
        "outputId": "55883122-1590-4fc6-a6fa-02938a1076ac"
      },
      "source": [
        "sns.catplot(kind='count',x='profession',data=df,col='gender').set_xticklabels(rotation=45)"
      ],
      "execution_count": 27,
      "outputs": [
        {
          "output_type": "execute_result",
          "data": {
            "text/plain": [
              "<seaborn.axisgrid.FacetGrid at 0x7f16e992c110>"
            ]
          },
          "metadata": {
            "tags": []
          },
          "execution_count": 27
        },
        {
          "output_type": "display_data",
          "data": {
            "image/png": "[encoded data removed]",
            "text/plain": [
              "<Figure size 720x360 with 2 Axes>"
            ]
          },
          "metadata": {
            "tags": [],
            "needs_background": "light"
          }
        }
      ]
    },
    {
      "cell_type": "markdown",
      "metadata": {
        "id": "NcjK8lhuwAyp"
      },
      "source": [
        ">The distribution of age doesn't go with a normal distribution. The peak is around 40. However, it could be identified that for people are relatively yonger in group D compared to people belong to other groups. "
      ]
    },
    {
      "cell_type": "code",
      "metadata": {
        "colab": {
          "base_uri": "https://localhost:8080/",
          "height": 297
        },
        "id": "OMfavMMmwAyp",
        "outputId": "a926f542-80f0-4685-e9cd-1eef6e5e1698"
      },
      "source": [
        "sns.distplot(df['age'])"
      ],
      "execution_count": 28,
      "outputs": [
        {
          "output_type": "execute_result",
          "data": {
            "text/plain": [
              "<matplotlib.axes._subplots.AxesSubplot at 0x7f16e9802d10>"
            ]
          },
          "metadata": {
            "tags": []
          },
          "execution_count": 28
        },
        {
          "output_type": "display_data",
          "data": {
            "image/png": "[encoded data removed]",
            "text/plain": [
              "<Figure size 432x288 with 1 Axes>"
            ]
          },
          "metadata": {
            "tags": [],
            "needs_background": "light"
          }
        }
      ]
    },
    {
      "cell_type": "code",
      "metadata": {
        "colab": {
          "base_uri": "https://localhost:8080/",
          "height": 205
        },
        "id": "4QAszuNHwAyp",
        "outputId": "a76042c7-fc47-43e7-dbe1-19174ffca18b"
      },
      "source": [
        "df.groupby('segmentation')[['age']].mean().sort_values('age',ascending=False)"
      ],
      "execution_count": 29,
      "outputs": [
        {
          "output_type": "execute_result",
          "data": {
            "text/html": [
              "<div>\n",
              "<style scoped>\n",
              "    .dataframe tbody tr th:only-of-type {\n",
              "        vertical-align: middle;\n",
              "    }\n",
              "\n",
              "    .dataframe tbody tr th {\n",
              "        vertical-align: top;\n",
              "    }\n",
              "\n",
              "    .dataframe thead th {\n",
              "        text-align: right;\n",
              "    }\n",
              "</style>\n",
              "<table border=\"1\" class=\"dataframe\">\n",
              "  <thead>\n",
              "    <tr style=\"text-align: right;\">\n",
              "      <th></th>\n",
              "      <th>age</th>\n",
              "    </tr>\n",
              "    <tr>\n",
              "      <th>segmentation</th>\n",
              "      <th></th>\n",
              "    </tr>\n",
              "  </thead>\n",
              "  <tbody>\n",
              "    <tr>\n",
              "      <th>C</th>\n",
              "      <td>49.306967</td>\n",
              "    </tr>\n",
              "    <tr>\n",
              "      <th>B</th>\n",
              "      <td>48.205128</td>\n",
              "    </tr>\n",
              "    <tr>\n",
              "      <th>A</th>\n",
              "      <td>44.846847</td>\n",
              "    </tr>\n",
              "    <tr>\n",
              "      <th>D</th>\n",
              "      <td>33.280522</td>\n",
              "    </tr>\n",
              "  </tbody>\n",
              "</table>\n",
              "</div>"
            ],
            "text/plain": [
              "                    age\n",
              "segmentation           \n",
              "C             49.306967\n",
              "B             48.205128\n",
              "A             44.846847\n",
              "D             33.280522"
            ]
          },
          "metadata": {
            "tags": []
          },
          "execution_count": 29
        }
      ]
    },
    {
      "cell_type": "markdown",
      "metadata": {
        "id": "gz0wE7Y2wAyp"
      },
      "source": [
        "## Data paration"
      ]
    },
    {
      "cell_type": "code",
      "metadata": {
        "id": "d0ffZQIowAyp"
      },
      "source": [
        "df.index = df['id']\n",
        "df.drop(columns='id',inplace=True)"
      ],
      "execution_count": 30,
      "outputs": []
    },
    {
      "cell_type": "markdown",
      "metadata": {
        "id": "tDluvIw9wAyq"
      },
      "source": [
        "### for numeric columns"
      ]
    },
    {
      "cell_type": "code",
      "metadata": {
        "id": "tk5itWcQwAyq"
      },
      "source": [
        "numcol = df.select_dtypes('number')"
      ],
      "execution_count": 31,
      "outputs": []
    },
    {
      "cell_type": "code",
      "metadata": {
        "colab": {
          "base_uri": "https://localhost:8080/",
          "height": 143
        },
        "id": "NFet1__IwAyq",
        "outputId": "2c149a87-22a8-4251-c324-5f32020d309b"
      },
      "source": [
        "numcol.describe().T"
      ],
      "execution_count": 32,
      "outputs": [
        {
          "output_type": "execute_result",
          "data": {
            "text/html": [
              "<div>\n",
              "<style scoped>\n",
              "    .dataframe tbody tr th:only-of-type {\n",
              "        vertical-align: middle;\n",
              "    }\n",
              "\n",
              "    .dataframe tbody tr th {\n",
              "        vertical-align: top;\n",
              "    }\n",
              "\n",
              "    .dataframe thead th {\n",
              "        text-align: right;\n",
              "    }\n",
              "</style>\n",
              "<table border=\"1\" class=\"dataframe\">\n",
              "  <thead>\n",
              "    <tr style=\"text-align: right;\">\n",
              "      <th></th>\n",
              "      <th>count</th>\n",
              "      <th>mean</th>\n",
              "      <th>std</th>\n",
              "      <th>min</th>\n",
              "      <th>25%</th>\n",
              "      <th>50%</th>\n",
              "      <th>75%</th>\n",
              "      <th>max</th>\n",
              "    </tr>\n",
              "  </thead>\n",
              "  <tbody>\n",
              "    <tr>\n",
              "      <th>age</th>\n",
              "      <td>7736.0</td>\n",
              "      <td>43.517709</td>\n",
              "      <td>16.716255</td>\n",
              "      <td>18.0</td>\n",
              "      <td>30.75</td>\n",
              "      <td>40.0</td>\n",
              "      <td>53.0</td>\n",
              "      <td>89.0</td>\n",
              "    </tr>\n",
              "    <tr>\n",
              "      <th>work_experience</th>\n",
              "      <td>7736.0</td>\n",
              "      <td>2.377068</td>\n",
              "      <td>3.328766</td>\n",
              "      <td>0.0</td>\n",
              "      <td>0.00</td>\n",
              "      <td>1.0</td>\n",
              "      <td>4.0</td>\n",
              "      <td>14.0</td>\n",
              "    </tr>\n",
              "    <tr>\n",
              "      <th>family_size</th>\n",
              "      <td>7736.0</td>\n",
              "      <td>2.854835</td>\n",
              "      <td>1.501560</td>\n",
              "      <td>1.0</td>\n",
              "      <td>2.00</td>\n",
              "      <td>3.0</td>\n",
              "      <td>4.0</td>\n",
              "      <td>9.0</td>\n",
              "    </tr>\n",
              "  </tbody>\n",
              "</table>\n",
              "</div>"
            ],
            "text/plain": [
              "                  count       mean        std   min    25%   50%   75%   max\n",
              "age              7736.0  43.517709  16.716255  18.0  30.75  40.0  53.0  89.0\n",
              "work_experience  7736.0   2.377068   3.328766   0.0   0.00   1.0   4.0  14.0\n",
              "family_size      7736.0   2.854835   1.501560   1.0   2.00   3.0   4.0   9.0"
            ]
          },
          "metadata": {
            "tags": []
          },
          "execution_count": 32
        }
      ]
    },
    {
      "cell_type": "code",
      "metadata": {
        "id": "u733RQqJwAyq"
      },
      "source": [
        "# standardize numberic variables\n",
        "sc = StandardScaler()\n",
        "sc = sc.fit(numcol)\n",
        "scaled = sc.transform(numcol)"
      ],
      "execution_count": 33,
      "outputs": []
    },
    {
      "cell_type": "code",
      "metadata": {
        "id": "_UwLWaCQwAyq"
      },
      "source": [
        "num_c = pd.DataFrame(scaled,columns = numcol.columns, index=numcol.index)"
      ],
      "execution_count": 34,
      "outputs": []
    },
    {
      "cell_type": "code",
      "metadata": {
        "colab": {
          "base_uri": "https://localhost:8080/",
          "height": 236
        },
        "id": "Y8qO-VaMwAyq",
        "outputId": "2ee8e720-92ea-4395-9dd9-fea65f1dfd93"
      },
      "source": [
        "num_c.head()"
      ],
      "execution_count": 35,
      "outputs": [
        {
          "output_type": "execute_result",
          "data": {
            "text/html": [
              "<div>\n",
              "<style scoped>\n",
              "    .dataframe tbody tr th:only-of-type {\n",
              "        vertical-align: middle;\n",
              "    }\n",
              "\n",
              "    .dataframe tbody tr th {\n",
              "        vertical-align: top;\n",
              "    }\n",
              "\n",
              "    .dataframe thead th {\n",
              "        text-align: right;\n",
              "    }\n",
              "</style>\n",
              "<table border=\"1\" class=\"dataframe\">\n",
              "  <thead>\n",
              "    <tr style=\"text-align: right;\">\n",
              "      <th></th>\n",
              "      <th>age</th>\n",
              "      <th>work_experience</th>\n",
              "      <th>family_size</th>\n",
              "    </tr>\n",
              "    <tr>\n",
              "      <th>id</th>\n",
              "      <th></th>\n",
              "      <th></th>\n",
              "      <th></th>\n",
              "    </tr>\n",
              "  </thead>\n",
              "  <tbody>\n",
              "    <tr>\n",
              "      <th>462809</th>\n",
              "      <td>-1.287316</td>\n",
              "      <td>-0.413714</td>\n",
              "      <td>0.762700</td>\n",
              "    </tr>\n",
              "    <tr>\n",
              "      <th>462643</th>\n",
              "      <td>-0.330102</td>\n",
              "      <td>-0.714145</td>\n",
              "      <td>0.096683</td>\n",
              "    </tr>\n",
              "    <tr>\n",
              "      <th>466315</th>\n",
              "      <td>1.404849</td>\n",
              "      <td>-0.413714</td>\n",
              "      <td>-1.235351</td>\n",
              "    </tr>\n",
              "    <tr>\n",
              "      <th>461735</th>\n",
              "      <td>1.404849</td>\n",
              "      <td>-0.714145</td>\n",
              "      <td>-0.569334</td>\n",
              "    </tr>\n",
              "    <tr>\n",
              "      <th>462669</th>\n",
              "      <td>-0.210450</td>\n",
              "      <td>-0.714145</td>\n",
              "      <td>2.094733</td>\n",
              "    </tr>\n",
              "  </tbody>\n",
              "</table>\n",
              "</div>"
            ],
            "text/plain": [
              "             age  work_experience  family_size\n",
              "id                                            \n",
              "462809 -1.287316        -0.413714     0.762700\n",
              "462643 -0.330102        -0.714145     0.096683\n",
              "466315  1.404849        -0.413714    -1.235351\n",
              "461735  1.404849        -0.714145    -0.569334\n",
              "462669 -0.210450        -0.714145     2.094733"
            ]
          },
          "metadata": {
            "tags": []
          },
          "execution_count": 35
        }
      ]
    },
    {
      "cell_type": "code",
      "metadata": {
        "colab": {
          "base_uri": "https://localhost:8080/",
          "height": 143
        },
        "id": "KT0Or2pswAyq",
        "outputId": "e807e425-20b3-40b7-e904-81081b965bf2"
      },
      "source": [
        "num_c.describe().T"
      ],
      "execution_count": 36,
      "outputs": [
        {
          "output_type": "execute_result",
          "data": {
            "text/html": [
              "<div>\n",
              "<style scoped>\n",
              "    .dataframe tbody tr th:only-of-type {\n",
              "        vertical-align: middle;\n",
              "    }\n",
              "\n",
              "    .dataframe tbody tr th {\n",
              "        vertical-align: top;\n",
              "    }\n",
              "\n",
              "    .dataframe thead th {\n",
              "        text-align: right;\n",
              "    }\n",
              "</style>\n",
              "<table border=\"1\" class=\"dataframe\">\n",
              "  <thead>\n",
              "    <tr style=\"text-align: right;\">\n",
              "      <th></th>\n",
              "      <th>count</th>\n",
              "      <th>mean</th>\n",
              "      <th>std</th>\n",
              "      <th>min</th>\n",
              "      <th>25%</th>\n",
              "      <th>50%</th>\n",
              "      <th>75%</th>\n",
              "      <th>max</th>\n",
              "    </tr>\n",
              "  </thead>\n",
              "  <tbody>\n",
              "    <tr>\n",
              "      <th>age</th>\n",
              "      <td>7736.0</td>\n",
              "      <td>4.583114e-17</td>\n",
              "      <td>1.000065</td>\n",
              "      <td>-1.526619</td>\n",
              "      <td>-0.763839</td>\n",
              "      <td>-0.210450</td>\n",
              "      <td>0.567286</td>\n",
              "      <td>2.721018</td>\n",
              "    </tr>\n",
              "    <tr>\n",
              "      <th>work_experience</th>\n",
              "      <td>7736.0</td>\n",
              "      <td>4.846462e-17</td>\n",
              "      <td>1.000065</td>\n",
              "      <td>-0.714145</td>\n",
              "      <td>-0.714145</td>\n",
              "      <td>-0.413714</td>\n",
              "      <td>0.487579</td>\n",
              "      <td>3.491889</td>\n",
              "    </tr>\n",
              "    <tr>\n",
              "      <th>family_size</th>\n",
              "      <td>7736.0</td>\n",
              "      <td>-2.819939e-16</td>\n",
              "      <td>1.000065</td>\n",
              "      <td>-1.235351</td>\n",
              "      <td>-0.569334</td>\n",
              "      <td>0.096683</td>\n",
              "      <td>0.762700</td>\n",
              "      <td>4.092784</td>\n",
              "    </tr>\n",
              "  </tbody>\n",
              "</table>\n",
              "</div>"
            ],
            "text/plain": [
              "                  count          mean       std  ...       50%       75%       max\n",
              "age              7736.0  4.583114e-17  1.000065  ... -0.210450  0.567286  2.721018\n",
              "work_experience  7736.0  4.846462e-17  1.000065  ... -0.413714  0.487579  3.491889\n",
              "family_size      7736.0 -2.819939e-16  1.000065  ...  0.096683  0.762700  4.092784\n",
              "\n",
              "[3 rows x 8 columns]"
            ]
          },
          "metadata": {
            "tags": []
          },
          "execution_count": 36
        }
      ]
    },
    {
      "cell_type": "markdown",
      "metadata": {
        "id": "denC_wElwAyq"
      },
      "source": [
        "### categorical variables"
      ]
    },
    {
      "cell_type": "code",
      "metadata": {
        "id": "e2kZ6GMIwAyq"
      },
      "source": [
        "catcol = df[['gender','ever_married','graduated','profession','spending_score','var_1']]"
      ],
      "execution_count": 37,
      "outputs": []
    },
    {
      "cell_type": "code",
      "metadata": {
        "colab": {
          "base_uri": "https://localhost:8080/",
          "height": 175
        },
        "id": "duXquyx0wAyr",
        "outputId": "12fcbfff-b9aa-4d93-e3c9-86a72ae82639"
      },
      "source": [
        "catcol.head(3)"
      ],
      "execution_count": 38,
      "outputs": [
        {
          "output_type": "execute_result",
          "data": {
            "text/html": [
              "<div>\n",
              "<style scoped>\n",
              "    .dataframe tbody tr th:only-of-type {\n",
              "        vertical-align: middle;\n",
              "    }\n",
              "\n",
              "    .dataframe tbody tr th {\n",
              "        vertical-align: top;\n",
              "    }\n",
              "\n",
              "    .dataframe thead th {\n",
              "        text-align: right;\n",
              "    }\n",
              "</style>\n",
              "<table border=\"1\" class=\"dataframe\">\n",
              "  <thead>\n",
              "    <tr style=\"text-align: right;\">\n",
              "      <th></th>\n",
              "      <th>gender</th>\n",
              "      <th>ever_married</th>\n",
              "      <th>graduated</th>\n",
              "      <th>profession</th>\n",
              "      <th>spending_score</th>\n",
              "      <th>var_1</th>\n",
              "    </tr>\n",
              "    <tr>\n",
              "      <th>id</th>\n",
              "      <th></th>\n",
              "      <th></th>\n",
              "      <th></th>\n",
              "      <th></th>\n",
              "      <th></th>\n",
              "      <th></th>\n",
              "    </tr>\n",
              "  </thead>\n",
              "  <tbody>\n",
              "    <tr>\n",
              "      <th>462809</th>\n",
              "      <td>Male</td>\n",
              "      <td>No</td>\n",
              "      <td>No</td>\n",
              "      <td>Healthcare</td>\n",
              "      <td>Low</td>\n",
              "      <td>Cat_4</td>\n",
              "    </tr>\n",
              "    <tr>\n",
              "      <th>462643</th>\n",
              "      <td>Female</td>\n",
              "      <td>Yes</td>\n",
              "      <td>Yes</td>\n",
              "      <td>Engineer</td>\n",
              "      <td>Average</td>\n",
              "      <td>Cat_4</td>\n",
              "    </tr>\n",
              "    <tr>\n",
              "      <th>466315</th>\n",
              "      <td>Female</td>\n",
              "      <td>Yes</td>\n",
              "      <td>Yes</td>\n",
              "      <td>Engineer</td>\n",
              "      <td>Low</td>\n",
              "      <td>Cat_6</td>\n",
              "    </tr>\n",
              "  </tbody>\n",
              "</table>\n",
              "</div>"
            ],
            "text/plain": [
              "        gender ever_married graduated  profession spending_score  var_1\n",
              "id                                                                     \n",
              "462809    Male           No        No  Healthcare            Low  Cat_4\n",
              "462643  Female          Yes       Yes    Engineer        Average  Cat_4\n",
              "466315  Female          Yes       Yes    Engineer            Low  Cat_6"
            ]
          },
          "metadata": {
            "tags": []
          },
          "execution_count": 38
        }
      ]
    },
    {
      "cell_type": "code",
      "metadata": {
        "colab": {
          "base_uri": "https://localhost:8080/",
          "height": 195
        },
        "id": "11YSj3FnwAyr",
        "outputId": "30e5267c-6e0f-4bce-ac1d-231195a95d87"
      },
      "source": [
        "# create dummy variables\n",
        "c = pd.get_dummies(catcol,drop_first=True)\n",
        "c.head(3)"
      ],
      "execution_count": 39,
      "outputs": [
        {
          "output_type": "execute_result",
          "data": {
            "text/html": [
              "<div>\n",
              "<style scoped>\n",
              "    .dataframe tbody tr th:only-of-type {\n",
              "        vertical-align: middle;\n",
              "    }\n",
              "\n",
              "    .dataframe tbody tr th {\n",
              "        vertical-align: top;\n",
              "    }\n",
              "\n",
              "    .dataframe thead th {\n",
              "        text-align: right;\n",
              "    }\n",
              "</style>\n",
              "<table border=\"1\" class=\"dataframe\">\n",
              "  <thead>\n",
              "    <tr style=\"text-align: right;\">\n",
              "      <th></th>\n",
              "      <th>gender_Male</th>\n",
              "      <th>ever_married_Yes</th>\n",
              "      <th>graduated_Yes</th>\n",
              "      <th>profession_Doctor</th>\n",
              "      <th>profession_Engineer</th>\n",
              "      <th>profession_Entertainment</th>\n",
              "      <th>profession_Executive</th>\n",
              "      <th>profession_Healthcare</th>\n",
              "      <th>profession_Homemaker</th>\n",
              "      <th>profession_Lawyer</th>\n",
              "      <th>profession_Marketing</th>\n",
              "      <th>spending_score_High</th>\n",
              "      <th>spending_score_Low</th>\n",
              "      <th>var_1_Cat_2</th>\n",
              "      <th>var_1_Cat_3</th>\n",
              "      <th>var_1_Cat_4</th>\n",
              "      <th>var_1_Cat_5</th>\n",
              "      <th>var_1_Cat_6</th>\n",
              "      <th>var_1_Cat_7</th>\n",
              "    </tr>\n",
              "    <tr>\n",
              "      <th>id</th>\n",
              "      <th></th>\n",
              "      <th></th>\n",
              "      <th></th>\n",
              "      <th></th>\n",
              "      <th></th>\n",
              "      <th></th>\n",
              "      <th></th>\n",
              "      <th></th>\n",
              "      <th></th>\n",
              "      <th></th>\n",
              "      <th></th>\n",
              "      <th></th>\n",
              "      <th></th>\n",
              "      <th></th>\n",
              "      <th></th>\n",
              "      <th></th>\n",
              "      <th></th>\n",
              "      <th></th>\n",
              "      <th></th>\n",
              "    </tr>\n",
              "  </thead>\n",
              "  <tbody>\n",
              "    <tr>\n",
              "      <th>462809</th>\n",
              "      <td>1</td>\n",
              "      <td>0</td>\n",
              "      <td>0</td>\n",
              "      <td>0</td>\n",
              "      <td>0</td>\n",
              "      <td>0</td>\n",
              "      <td>0</td>\n",
              "      <td>1</td>\n",
              "      <td>0</td>\n",
              "      <td>0</td>\n",
              "      <td>0</td>\n",
              "      <td>0</td>\n",
              "      <td>1</td>\n",
              "      <td>0</td>\n",
              "      <td>0</td>\n",
              "      <td>1</td>\n",
              "      <td>0</td>\n",
              "      <td>0</td>\n",
              "      <td>0</td>\n",
              "    </tr>\n",
              "    <tr>\n",
              "      <th>462643</th>\n",
              "      <td>0</td>\n",
              "      <td>1</td>\n",
              "      <td>1</td>\n",
              "      <td>0</td>\n",
              "      <td>1</td>\n",
              "      <td>0</td>\n",
              "      <td>0</td>\n",
              "      <td>0</td>\n",
              "      <td>0</td>\n",
              "      <td>0</td>\n",
              "      <td>0</td>\n",
              "      <td>0</td>\n",
              "      <td>0</td>\n",
              "      <td>0</td>\n",
              "      <td>0</td>\n",
              "      <td>1</td>\n",
              "      <td>0</td>\n",
              "      <td>0</td>\n",
              "      <td>0</td>\n",
              "    </tr>\n",
              "    <tr>\n",
              "      <th>466315</th>\n",
              "      <td>0</td>\n",
              "      <td>1</td>\n",
              "      <td>1</td>\n",
              "      <td>0</td>\n",
              "      <td>1</td>\n",
              "      <td>0</td>\n",
              "      <td>0</td>\n",
              "      <td>0</td>\n",
              "      <td>0</td>\n",
              "      <td>0</td>\n",
              "      <td>0</td>\n",
              "      <td>0</td>\n",
              "      <td>1</td>\n",
              "      <td>0</td>\n",
              "      <td>0</td>\n",
              "      <td>0</td>\n",
              "      <td>0</td>\n",
              "      <td>1</td>\n",
              "      <td>0</td>\n",
              "    </tr>\n",
              "  </tbody>\n",
              "</table>\n",
              "</div>"
            ],
            "text/plain": [
              "        gender_Male  ever_married_Yes  ...  var_1_Cat_6  var_1_Cat_7\n",
              "id                                     ...                          \n",
              "462809            1                 0  ...            0            0\n",
              "462643            0                 1  ...            0            0\n",
              "466315            0                 1  ...            1            0\n",
              "\n",
              "[3 rows x 19 columns]"
            ]
          },
          "metadata": {
            "tags": []
          },
          "execution_count": 39
        }
      ]
    },
    {
      "cell_type": "code",
      "metadata": {
        "colab": {
          "base_uri": "https://localhost:8080/"
        },
        "id": "trortWJUwAyr",
        "outputId": "b6a66e52-0a5d-4e74-e99c-80a2c00a21c8"
      },
      "source": [
        "c.columns"
      ],
      "execution_count": 40,
      "outputs": [
        {
          "output_type": "execute_result",
          "data": {
            "text/plain": [
              "Index(['gender_Male', 'ever_married_Yes', 'graduated_Yes', 'profession_Doctor',\n",
              "       'profession_Engineer', 'profession_Entertainment',\n",
              "       'profession_Executive', 'profession_Healthcare', 'profession_Homemaker',\n",
              "       'profession_Lawyer', 'profession_Marketing', 'spending_score_High',\n",
              "       'spending_score_Low', 'var_1_Cat_2', 'var_1_Cat_3', 'var_1_Cat_4',\n",
              "       'var_1_Cat_5', 'var_1_Cat_6', 'var_1_Cat_7'],\n",
              "      dtype='object')"
            ]
          },
          "metadata": {
            "tags": []
          },
          "execution_count": 40
        }
      ]
    },
    {
      "cell_type": "code",
      "metadata": {
        "id": "xKwNSCvnwAyr"
      },
      "source": [
        "# combine numerical and categorical columns\n",
        "sdf = pd.concat([num_c,c],axis=1)"
      ],
      "execution_count": 41,
      "outputs": []
    },
    {
      "cell_type": "code",
      "metadata": {
        "id": "RNIFbJoKwAyr"
      },
      "source": [
        "# map segmentation\n",
        "sdf['segmentation'] = df['segmentation'].map({'A':0,'B':1,'C':2,'D':3})"
      ],
      "execution_count": 42,
      "outputs": []
    },
    {
      "cell_type": "code",
      "metadata": {
        "colab": {
          "base_uri": "https://localhost:8080/",
          "height": 256
        },
        "id": "BIsR0gAQwAyr",
        "outputId": "c8bb99e7-056a-4f3b-f7d8-2c93e8ec107e"
      },
      "source": [
        "sdf.head()"
      ],
      "execution_count": 43,
      "outputs": [
        {
          "output_type": "execute_result",
          "data": {
            "text/html": [
              "<div>\n",
              "<style scoped>\n",
              "    .dataframe tbody tr th:only-of-type {\n",
              "        vertical-align: middle;\n",
              "    }\n",
              "\n",
              "    .dataframe tbody tr th {\n",
              "        vertical-align: top;\n",
              "    }\n",
              "\n",
              "    .dataframe thead th {\n",
              "        text-align: right;\n",
              "    }\n",
              "</style>\n",
              "<table border=\"1\" class=\"dataframe\">\n",
              "  <thead>\n",
              "    <tr style=\"text-align: right;\">\n",
              "      <th></th>\n",
              "      <th>age</th>\n",
              "      <th>work_experience</th>\n",
              "      <th>family_size</th>\n",
              "      <th>gender_Male</th>\n",
              "      <th>ever_married_Yes</th>\n",
              "      <th>graduated_Yes</th>\n",
              "      <th>profession_Doctor</th>\n",
              "      <th>profession_Engineer</th>\n",
              "      <th>profession_Entertainment</th>\n",
              "      <th>profession_Executive</th>\n",
              "      <th>profession_Healthcare</th>\n",
              "      <th>profession_Homemaker</th>\n",
              "      <th>profession_Lawyer</th>\n",
              "      <th>profession_Marketing</th>\n",
              "      <th>spending_score_High</th>\n",
              "      <th>spending_score_Low</th>\n",
              "      <th>var_1_Cat_2</th>\n",
              "      <th>var_1_Cat_3</th>\n",
              "      <th>var_1_Cat_4</th>\n",
              "      <th>var_1_Cat_5</th>\n",
              "      <th>var_1_Cat_6</th>\n",
              "      <th>var_1_Cat_7</th>\n",
              "      <th>segmentation</th>\n",
              "    </tr>\n",
              "    <tr>\n",
              "      <th>id</th>\n",
              "      <th></th>\n",
              "      <th></th>\n",
              "      <th></th>\n",
              "      <th></th>\n",
              "      <th></th>\n",
              "      <th></th>\n",
              "      <th></th>\n",
              "      <th></th>\n",
              "      <th></th>\n",
              "      <th></th>\n",
              "      <th></th>\n",
              "      <th></th>\n",
              "      <th></th>\n",
              "      <th></th>\n",
              "      <th></th>\n",
              "      <th></th>\n",
              "      <th></th>\n",
              "      <th></th>\n",
              "      <th></th>\n",
              "      <th></th>\n",
              "      <th></th>\n",
              "      <th></th>\n",
              "      <th></th>\n",
              "    </tr>\n",
              "  </thead>\n",
              "  <tbody>\n",
              "    <tr>\n",
              "      <th>462809</th>\n",
              "      <td>-1.287316</td>\n",
              "      <td>-0.413714</td>\n",
              "      <td>0.762700</td>\n",
              "      <td>1</td>\n",
              "      <td>0</td>\n",
              "      <td>0</td>\n",
              "      <td>0</td>\n",
              "      <td>0</td>\n",
              "      <td>0</td>\n",
              "      <td>0</td>\n",
              "      <td>1</td>\n",
              "      <td>0</td>\n",
              "      <td>0</td>\n",
              "      <td>0</td>\n",
              "      <td>0</td>\n",
              "      <td>1</td>\n",
              "      <td>0</td>\n",
              "      <td>0</td>\n",
              "      <td>1</td>\n",
              "      <td>0</td>\n",
              "      <td>0</td>\n",
              "      <td>0</td>\n",
              "      <td>3</td>\n",
              "    </tr>\n",
              "    <tr>\n",
              "      <th>462643</th>\n",
              "      <td>-0.330102</td>\n",
              "      <td>-0.714145</td>\n",
              "      <td>0.096683</td>\n",
              "      <td>0</td>\n",
              "      <td>1</td>\n",
              "      <td>1</td>\n",
              "      <td>0</td>\n",
              "      <td>1</td>\n",
              "      <td>0</td>\n",
              "      <td>0</td>\n",
              "      <td>0</td>\n",
              "      <td>0</td>\n",
              "      <td>0</td>\n",
              "      <td>0</td>\n",
              "      <td>0</td>\n",
              "      <td>0</td>\n",
              "      <td>0</td>\n",
              "      <td>0</td>\n",
              "      <td>1</td>\n",
              "      <td>0</td>\n",
              "      <td>0</td>\n",
              "      <td>0</td>\n",
              "      <td>0</td>\n",
              "    </tr>\n",
              "    <tr>\n",
              "      <th>466315</th>\n",
              "      <td>1.404849</td>\n",
              "      <td>-0.413714</td>\n",
              "      <td>-1.235351</td>\n",
              "      <td>0</td>\n",
              "      <td>1</td>\n",
              "      <td>1</td>\n",
              "      <td>0</td>\n",
              "      <td>1</td>\n",
              "      <td>0</td>\n",
              "      <td>0</td>\n",
              "      <td>0</td>\n",
              "      <td>0</td>\n",
              "      <td>0</td>\n",
              "      <td>0</td>\n",
              "      <td>0</td>\n",
              "      <td>1</td>\n",
              "      <td>0</td>\n",
              "      <td>0</td>\n",
              "      <td>0</td>\n",
              "      <td>0</td>\n",
              "      <td>1</td>\n",
              "      <td>0</td>\n",
              "      <td>1</td>\n",
              "    </tr>\n",
              "    <tr>\n",
              "      <th>461735</th>\n",
              "      <td>1.404849</td>\n",
              "      <td>-0.714145</td>\n",
              "      <td>-0.569334</td>\n",
              "      <td>1</td>\n",
              "      <td>1</td>\n",
              "      <td>1</td>\n",
              "      <td>0</td>\n",
              "      <td>0</td>\n",
              "      <td>0</td>\n",
              "      <td>0</td>\n",
              "      <td>0</td>\n",
              "      <td>0</td>\n",
              "      <td>1</td>\n",
              "      <td>0</td>\n",
              "      <td>1</td>\n",
              "      <td>0</td>\n",
              "      <td>0</td>\n",
              "      <td>0</td>\n",
              "      <td>0</td>\n",
              "      <td>0</td>\n",
              "      <td>1</td>\n",
              "      <td>0</td>\n",
              "      <td>1</td>\n",
              "    </tr>\n",
              "    <tr>\n",
              "      <th>462669</th>\n",
              "      <td>-0.210450</td>\n",
              "      <td>-0.714145</td>\n",
              "      <td>2.094733</td>\n",
              "      <td>0</td>\n",
              "      <td>1</td>\n",
              "      <td>1</td>\n",
              "      <td>0</td>\n",
              "      <td>0</td>\n",
              "      <td>1</td>\n",
              "      <td>0</td>\n",
              "      <td>0</td>\n",
              "      <td>0</td>\n",
              "      <td>0</td>\n",
              "      <td>0</td>\n",
              "      <td>1</td>\n",
              "      <td>0</td>\n",
              "      <td>0</td>\n",
              "      <td>0</td>\n",
              "      <td>0</td>\n",
              "      <td>0</td>\n",
              "      <td>1</td>\n",
              "      <td>0</td>\n",
              "      <td>0</td>\n",
              "    </tr>\n",
              "  </tbody>\n",
              "</table>\n",
              "</div>"
            ],
            "text/plain": [
              "             age  work_experience  ...  var_1_Cat_7  segmentation\n",
              "id                                 ...                           \n",
              "462809 -1.287316        -0.413714  ...            0             3\n",
              "462643 -0.330102        -0.714145  ...            0             0\n",
              "466315  1.404849        -0.413714  ...            0             1\n",
              "461735  1.404849        -0.714145  ...            0             1\n",
              "462669 -0.210450        -0.714145  ...            0             0\n",
              "\n",
              "[5 rows x 23 columns]"
            ]
          },
          "metadata": {
            "tags": []
          },
          "execution_count": 43
        }
      ]
    },
    {
      "cell_type": "markdown",
      "metadata": {
        "id": "jLujZeDDx6i-"
      },
      "source": [
        "## Model development"
      ]
    },
    {
      "cell_type": "code",
      "metadata": {
        "colab": {
          "base_uri": "https://localhost:8080/"
        },
        "id": "piZNgB7ewAyr",
        "outputId": "669d543d-abba-4271-d778-185d1c56f52f"
      },
      "source": [
        "sdf.columns"
      ],
      "execution_count": 45,
      "outputs": [
        {
          "output_type": "execute_result",
          "data": {
            "text/plain": [
              "Index(['age', 'work_experience', 'family_size', 'gender_Male',\n",
              "       'ever_married_Yes', 'graduated_Yes', 'profession_Doctor',\n",
              "       'profession_Engineer', 'profession_Entertainment',\n",
              "       'profession_Executive', 'profession_Healthcare', 'profession_Homemaker',\n",
              "       'profession_Lawyer', 'profession_Marketing', 'spending_score_High',\n",
              "       'spending_score_Low', 'var_1_Cat_2', 'var_1_Cat_3', 'var_1_Cat_4',\n",
              "       'var_1_Cat_5', 'var_1_Cat_6', 'var_1_Cat_7', 'segmentation'],\n",
              "      dtype='object')"
            ]
          },
          "metadata": {
            "tags": []
          },
          "execution_count": 45
        }
      ]
    },
    {
      "cell_type": "code",
      "metadata": {
        "id": "mAbQf1z8wAys"
      },
      "source": [
        "X = sdf[['age', 'work_experience', 'family_size', 'gender_Male',\n",
        "       'ever_married_Yes', 'graduated_Yes', 'profession_Doctor',\n",
        "       'profession_Engineer', 'profession_Entertainment',\n",
        "       'profession_Executive', 'profession_Healthcare', 'profession_Homemaker',\n",
        "       'profession_Lawyer', 'profession_Marketing', 'spending_score_High',\n",
        "       'spending_score_Low', 'var_1_Cat_2', 'var_1_Cat_3', 'var_1_Cat_4',\n",
        "       'var_1_Cat_5', 'var_1_Cat_6', 'var_1_Cat_7']]\n",
        "y = sdf['segmentation']\n",
        "\n",
        "validation_size = 0.2\n",
        "X_train, X_test, y_train, y_test = train_test_split(X,y,test_size=validation_size,random_state=0,stratify=y)\n"
      ],
      "execution_count": 46,
      "outputs": []
    },
    {
      "cell_type": "code",
      "metadata": {
        "id": "M95pJFv7wAys"
      },
      "source": [
        "def make_cm(matrix, columns):\n",
        "    n = len(columns)\n",
        "    act = ['actual Segmentation'] * n\n",
        "    pred = ['predicted Segmentation'] * n\n",
        "\n",
        "    cm = pd.DataFrame(matrix, \n",
        "        columns=[pred, columns], index=[act, columns])\n",
        "    return cm"
      ],
      "execution_count": 48,
      "outputs": []
    },
    {
      "cell_type": "markdown",
      "metadata": {
        "id": "WaIF-DpswAys"
      },
      "source": [
        "### Supervised Category prediction"
      ]
    },
    {
      "cell_type": "markdown",
      "metadata": {
        "id": "ZYieORnwwAys"
      },
      "source": [
        "#### Model 1: Logistic Regression"
      ]
    },
    {
      "cell_type": "code",
      "metadata": {
        "colab": {
          "base_uri": "https://localhost:8080/"
        },
        "id": "GDmK5PBwwAys",
        "outputId": "b0bd4ca6-7e7b-452a-fb79-020e1a6f3510"
      },
      "source": [
        "model1 = LogisticRegression()\n",
        "model1.fit(X_train,y_train)\n",
        "\n",
        "y_pred = model1.predict(X_train)\n",
        "\n",
        "print('Training Set')\n",
        "print('-'*50)\n",
        "print(confusion_matrix(y_train,y_pred))\n",
        "print(classification_report(y_train,y_pred))\n",
        "\n",
        "y_val = model1.predict(X_test)\n",
        "print('Validation Set')\n",
        "print('-'*50)\n",
        "print(confusion_matrix(y_train,y_pred))\n",
        "print(classification_report(y_train,y_pred))"
      ],
      "execution_count": 47,
      "outputs": [
        {
          "output_type": "stream",
          "text": [
            "Training Set\n",
            "--------------------------------------------------\n",
            "[[ 743  201  282  283]\n",
            " [ 410  342  521  162]\n",
            " [ 206  193  941  187]\n",
            " [ 349   84   77 1207]]\n",
            "              precision    recall  f1-score   support\n",
            "\n",
            "           0       0.44      0.49      0.46      1509\n",
            "           1       0.42      0.24      0.30      1435\n",
            "           2       0.52      0.62      0.56      1527\n",
            "           3       0.66      0.70      0.68      1717\n",
            "\n",
            "    accuracy                           0.52      6188\n",
            "   macro avg       0.51      0.51      0.50      6188\n",
            "weighted avg       0.51      0.52      0.51      6188\n",
            "\n",
            "Validation Set\n",
            "--------------------------------------------------\n",
            "[[ 743  201  282  283]\n",
            " [ 410  342  521  162]\n",
            " [ 206  193  941  187]\n",
            " [ 349   84   77 1207]]\n",
            "              precision    recall  f1-score   support\n",
            "\n",
            "           0       0.44      0.49      0.46      1509\n",
            "           1       0.42      0.24      0.30      1435\n",
            "           2       0.52      0.62      0.56      1527\n",
            "           3       0.66      0.70      0.68      1717\n",
            "\n",
            "    accuracy                           0.52      6188\n",
            "   macro avg       0.51      0.51      0.50      6188\n",
            "weighted avg       0.51      0.52      0.51      6188\n",
            "\n"
          ],
          "name": "stdout"
        }
      ]
    },
    {
      "cell_type": "code",
      "metadata": {
        "colab": {
          "base_uri": "https://localhost:8080/",
          "height": 205
        },
        "id": "RYefFrTPwAys",
        "outputId": "a46aee45-3190-4a54-8637-45c18268a37b"
      },
      "source": [
        "df_matrix=make_cm(\n",
        "    confusion_matrix(y_train, y_pred),['A', 'B', 'C', 'D'])\n",
        "display(df_matrix)"
      ],
      "execution_count": 49,
      "outputs": [
        {
          "output_type": "display_data",
          "data": {
            "text/html": [
              "<div>\n",
              "<style scoped>\n",
              "    .dataframe tbody tr th:only-of-type {\n",
              "        vertical-align: middle;\n",
              "    }\n",
              "\n",
              "    .dataframe tbody tr th {\n",
              "        vertical-align: top;\n",
              "    }\n",
              "\n",
              "    .dataframe thead tr th {\n",
              "        text-align: left;\n",
              "    }\n",
              "</style>\n",
              "<table border=\"1\" class=\"dataframe\">\n",
              "  <thead>\n",
              "    <tr>\n",
              "      <th></th>\n",
              "      <th></th>\n",
              "      <th colspan=\"4\" halign=\"left\">predicted Segmentation</th>\n",
              "    </tr>\n",
              "    <tr>\n",
              "      <th></th>\n",
              "      <th></th>\n",
              "      <th>A</th>\n",
              "      <th>B</th>\n",
              "      <th>C</th>\n",
              "      <th>D</th>\n",
              "    </tr>\n",
              "  </thead>\n",
              "  <tbody>\n",
              "    <tr>\n",
              "      <th rowspan=\"4\" valign=\"top\">actual Segmentation</th>\n",
              "      <th>A</th>\n",
              "      <td>743</td>\n",
              "      <td>201</td>\n",
              "      <td>282</td>\n",
              "      <td>283</td>\n",
              "    </tr>\n",
              "    <tr>\n",
              "      <th>B</th>\n",
              "      <td>410</td>\n",
              "      <td>342</td>\n",
              "      <td>521</td>\n",
              "      <td>162</td>\n",
              "    </tr>\n",
              "    <tr>\n",
              "      <th>C</th>\n",
              "      <td>206</td>\n",
              "      <td>193</td>\n",
              "      <td>941</td>\n",
              "      <td>187</td>\n",
              "    </tr>\n",
              "    <tr>\n",
              "      <th>D</th>\n",
              "      <td>349</td>\n",
              "      <td>84</td>\n",
              "      <td>77</td>\n",
              "      <td>1207</td>\n",
              "    </tr>\n",
              "  </tbody>\n",
              "</table>\n",
              "</div>"
            ],
            "text/plain": [
              "                      predicted Segmentation                \n",
              "                                           A    B    C     D\n",
              "actual Segmentation A                    743  201  282   283\n",
              "                    B                    410  342  521   162\n",
              "                    C                    206  193  941   187\n",
              "                    D                    349   84   77  1207"
            ]
          },
          "metadata": {
            "tags": []
          }
        }
      ]
    },
    {
      "cell_type": "markdown",
      "metadata": {
        "id": "XwdE1a09wAys"
      },
      "source": [
        "#### Model2:XGBoost"
      ]
    },
    {
      "cell_type": "code",
      "metadata": {
        "id": "VF0Xy_hswAys"
      },
      "source": [
        "model2 = XGBClassifier(\n",
        "    learning_rate=0.05, \n",
        "    max_depth=3,\n",
        "    min_child_weight=5, \n",
        "    n_estimators=1000, \n",
        "    random_state=7, \n",
        "    reg_lambda=1.5,\n",
        "    reg_alpha=0.5,\n",
        "    use_label_encoder=False\n",
        ")"
      ],
      "execution_count": 50,
      "outputs": []
    },
    {
      "cell_type": "code",
      "metadata": {
        "colab": {
          "base_uri": "https://localhost:8080/"
        },
        "id": "RmDCz_lLwAys",
        "outputId": "baa0777c-7d81-463a-ac98-8406d6cd7b33"
      },
      "source": [
        "model2.fit(X_train, y_train,\n",
        "          eval_metric='mlogloss',\n",
        "          verbose=False)"
      ],
      "execution_count": 52,
      "outputs": [
        {
          "output_type": "execute_result",
          "data": {
            "text/plain": [
              "XGBClassifier(base_score=0.5, booster='gbtree', colsample_bylevel=1,\n",
              "              colsample_bynode=1, colsample_bytree=1, gamma=0,\n",
              "              learning_rate=0.05, max_delta_step=0, max_depth=3,\n",
              "              min_child_weight=5, missing=None, n_estimators=1000, n_jobs=1,\n",
              "              nthread=None, objective='multi:softprob', random_state=7,\n",
              "              reg_alpha=0.5, reg_lambda=1.5, scale_pos_weight=1, seed=None,\n",
              "              silent=None, subsample=1, use_label_encoder=False, verbosity=1)"
            ]
          },
          "metadata": {
            "tags": []
          },
          "execution_count": 52
        }
      ]
    },
    {
      "cell_type": "code",
      "metadata": {
        "colab": {
          "base_uri": "https://localhost:8080/"
        },
        "id": "waSu-clSwAys",
        "outputId": "772edb48-b2c8-46e0-c9c4-c930ec61374d"
      },
      "source": [
        "y_pred = model2.predict(X_train)\n",
        "\n",
        "print('Training Set')\n",
        "print('-'*50)\n",
        "print(confusion_matrix(y_train,y_pred))\n",
        "print(classification_report(y_train,y_pred))\n",
        "\n",
        "y_val = model2.predict(X_test)\n",
        "print('Validation Set')\n",
        "print('-'*50)\n",
        "print(confusion_matrix(y_train,y_pred))\n",
        "print(classification_report(y_train,y_pred))"
      ],
      "execution_count": 54,
      "outputs": [
        {
          "output_type": "stream",
          "text": [
            "Training Set\n",
            "--------------------------------------------------\n",
            "[[ 852  229  169  259]\n",
            " [ 272  614  394  155]\n",
            " [ 144  208  991  184]\n",
            " [ 250   89   38 1340]]\n",
            "              precision    recall  f1-score   support\n",
            "\n",
            "           0       0.56      0.56      0.56      1509\n",
            "           1       0.54      0.43      0.48      1435\n",
            "           2       0.62      0.65      0.64      1527\n",
            "           3       0.69      0.78      0.73      1717\n",
            "\n",
            "    accuracy                           0.61      6188\n",
            "   macro avg       0.60      0.61      0.60      6188\n",
            "weighted avg       0.61      0.61      0.61      6188\n",
            "\n",
            "Validation Set\n",
            "--------------------------------------------------\n",
            "[[ 852  229  169  259]\n",
            " [ 272  614  394  155]\n",
            " [ 144  208  991  184]\n",
            " [ 250   89   38 1340]]\n",
            "              precision    recall  f1-score   support\n",
            "\n",
            "           0       0.56      0.56      0.56      1509\n",
            "           1       0.54      0.43      0.48      1435\n",
            "           2       0.62      0.65      0.64      1527\n",
            "           3       0.69      0.78      0.73      1717\n",
            "\n",
            "    accuracy                           0.61      6188\n",
            "   macro avg       0.60      0.61      0.60      6188\n",
            "weighted avg       0.61      0.61      0.61      6188\n",
            "\n"
          ],
          "name": "stdout"
        }
      ]
    },
    {
      "cell_type": "code",
      "metadata": {
        "colab": {
          "base_uri": "https://localhost:8080/",
          "height": 205
        },
        "id": "JAr6sRp6wAys",
        "outputId": "af001dd1-3a8d-43a7-eb60-06c5f321f2b5"
      },
      "source": [
        "df_matrix=make_cm(\n",
        "    confusion_matrix(y_train, y_pred),['A', 'B', 'C', 'D'])\n",
        "display(df_matrix)"
      ],
      "execution_count": 56,
      "outputs": [
        {
          "output_type": "display_data",
          "data": {
            "text/html": [
              "<div>\n",
              "<style scoped>\n",
              "    .dataframe tbody tr th:only-of-type {\n",
              "        vertical-align: middle;\n",
              "    }\n",
              "\n",
              "    .dataframe tbody tr th {\n",
              "        vertical-align: top;\n",
              "    }\n",
              "\n",
              "    .dataframe thead tr th {\n",
              "        text-align: left;\n",
              "    }\n",
              "</style>\n",
              "<table border=\"1\" class=\"dataframe\">\n",
              "  <thead>\n",
              "    <tr>\n",
              "      <th></th>\n",
              "      <th></th>\n",
              "      <th colspan=\"4\" halign=\"left\">predicted Segmentation</th>\n",
              "    </tr>\n",
              "    <tr>\n",
              "      <th></th>\n",
              "      <th></th>\n",
              "      <th>A</th>\n",
              "      <th>B</th>\n",
              "      <th>C</th>\n",
              "      <th>D</th>\n",
              "    </tr>\n",
              "  </thead>\n",
              "  <tbody>\n",
              "    <tr>\n",
              "      <th rowspan=\"4\" valign=\"top\">actual Segmentation</th>\n",
              "      <th>A</th>\n",
              "      <td>852</td>\n",
              "      <td>229</td>\n",
              "      <td>169</td>\n",
              "      <td>259</td>\n",
              "    </tr>\n",
              "    <tr>\n",
              "      <th>B</th>\n",
              "      <td>272</td>\n",
              "      <td>614</td>\n",
              "      <td>394</td>\n",
              "      <td>155</td>\n",
              "    </tr>\n",
              "    <tr>\n",
              "      <th>C</th>\n",
              "      <td>144</td>\n",
              "      <td>208</td>\n",
              "      <td>991</td>\n",
              "      <td>184</td>\n",
              "    </tr>\n",
              "    <tr>\n",
              "      <th>D</th>\n",
              "      <td>250</td>\n",
              "      <td>89</td>\n",
              "      <td>38</td>\n",
              "      <td>1340</td>\n",
              "    </tr>\n",
              "  </tbody>\n",
              "</table>\n",
              "</div>"
            ],
            "text/plain": [
              "                      predicted Segmentation                \n",
              "                                           A    B    C     D\n",
              "actual Segmentation A                    852  229  169   259\n",
              "                    B                    272  614  394   155\n",
              "                    C                    144  208  991   184\n",
              "                    D                    250   89   38  1340"
            ]
          },
          "metadata": {
            "tags": []
          }
        }
      ]
    },
    {
      "cell_type": "markdown",
      "metadata": {
        "id": "21fgu54ey1ep"
      },
      "source": [
        "### Unsupervised customer clustering"
      ]
    },
    {
      "cell_type": "code",
      "metadata": {
        "colab": {
          "base_uri": "https://localhost:8080/",
          "height": 256
        },
        "id": "cSzI6f61zYSS",
        "outputId": "74e07344-8aef-4950-d834-094aa2928c13"
      },
      "source": [
        "sdf.head()"
      ],
      "execution_count": 57,
      "outputs": [
        {
          "output_type": "execute_result",
          "data": {
            "text/html": [
              "<div>\n",
              "<style scoped>\n",
              "    .dataframe tbody tr th:only-of-type {\n",
              "        vertical-align: middle;\n",
              "    }\n",
              "\n",
              "    .dataframe tbody tr th {\n",
              "        vertical-align: top;\n",
              "    }\n",
              "\n",
              "    .dataframe thead th {\n",
              "        text-align: right;\n",
              "    }\n",
              "</style>\n",
              "<table border=\"1\" class=\"dataframe\">\n",
              "  <thead>\n",
              "    <tr style=\"text-align: right;\">\n",
              "      <th></th>\n",
              "      <th>age</th>\n",
              "      <th>work_experience</th>\n",
              "      <th>family_size</th>\n",
              "      <th>gender_Male</th>\n",
              "      <th>ever_married_Yes</th>\n",
              "      <th>graduated_Yes</th>\n",
              "      <th>profession_Doctor</th>\n",
              "      <th>profession_Engineer</th>\n",
              "      <th>profession_Entertainment</th>\n",
              "      <th>profession_Executive</th>\n",
              "      <th>profession_Healthcare</th>\n",
              "      <th>profession_Homemaker</th>\n",
              "      <th>profession_Lawyer</th>\n",
              "      <th>profession_Marketing</th>\n",
              "      <th>spending_score_High</th>\n",
              "      <th>spending_score_Low</th>\n",
              "      <th>var_1_Cat_2</th>\n",
              "      <th>var_1_Cat_3</th>\n",
              "      <th>var_1_Cat_4</th>\n",
              "      <th>var_1_Cat_5</th>\n",
              "      <th>var_1_Cat_6</th>\n",
              "      <th>var_1_Cat_7</th>\n",
              "      <th>segmentation</th>\n",
              "    </tr>\n",
              "    <tr>\n",
              "      <th>id</th>\n",
              "      <th></th>\n",
              "      <th></th>\n",
              "      <th></th>\n",
              "      <th></th>\n",
              "      <th></th>\n",
              "      <th></th>\n",
              "      <th></th>\n",
              "      <th></th>\n",
              "      <th></th>\n",
              "      <th></th>\n",
              "      <th></th>\n",
              "      <th></th>\n",
              "      <th></th>\n",
              "      <th></th>\n",
              "      <th></th>\n",
              "      <th></th>\n",
              "      <th></th>\n",
              "      <th></th>\n",
              "      <th></th>\n",
              "      <th></th>\n",
              "      <th></th>\n",
              "      <th></th>\n",
              "      <th></th>\n",
              "    </tr>\n",
              "  </thead>\n",
              "  <tbody>\n",
              "    <tr>\n",
              "      <th>462809</th>\n",
              "      <td>-1.287316</td>\n",
              "      <td>-0.413714</td>\n",
              "      <td>0.762700</td>\n",
              "      <td>1</td>\n",
              "      <td>0</td>\n",
              "      <td>0</td>\n",
              "      <td>0</td>\n",
              "      <td>0</td>\n",
              "      <td>0</td>\n",
              "      <td>0</td>\n",
              "      <td>1</td>\n",
              "      <td>0</td>\n",
              "      <td>0</td>\n",
              "      <td>0</td>\n",
              "      <td>0</td>\n",
              "      <td>1</td>\n",
              "      <td>0</td>\n",
              "      <td>0</td>\n",
              "      <td>1</td>\n",
              "      <td>0</td>\n",
              "      <td>0</td>\n",
              "      <td>0</td>\n",
              "      <td>3</td>\n",
              "    </tr>\n",
              "    <tr>\n",
              "      <th>462643</th>\n",
              "      <td>-0.330102</td>\n",
              "      <td>-0.714145</td>\n",
              "      <td>0.096683</td>\n",
              "      <td>0</td>\n",
              "      <td>1</td>\n",
              "      <td>1</td>\n",
              "      <td>0</td>\n",
              "      <td>1</td>\n",
              "      <td>0</td>\n",
              "      <td>0</td>\n",
              "      <td>0</td>\n",
              "      <td>0</td>\n",
              "      <td>0</td>\n",
              "      <td>0</td>\n",
              "      <td>0</td>\n",
              "      <td>0</td>\n",
              "      <td>0</td>\n",
              "      <td>0</td>\n",
              "      <td>1</td>\n",
              "      <td>0</td>\n",
              "      <td>0</td>\n",
              "      <td>0</td>\n",
              "      <td>0</td>\n",
              "    </tr>\n",
              "    <tr>\n",
              "      <th>466315</th>\n",
              "      <td>1.404849</td>\n",
              "      <td>-0.413714</td>\n",
              "      <td>-1.235351</td>\n",
              "      <td>0</td>\n",
              "      <td>1</td>\n",
              "      <td>1</td>\n",
              "      <td>0</td>\n",
              "      <td>1</td>\n",
              "      <td>0</td>\n",
              "      <td>0</td>\n",
              "      <td>0</td>\n",
              "      <td>0</td>\n",
              "      <td>0</td>\n",
              "      <td>0</td>\n",
              "      <td>0</td>\n",
              "      <td>1</td>\n",
              "      <td>0</td>\n",
              "      <td>0</td>\n",
              "      <td>0</td>\n",
              "      <td>0</td>\n",
              "      <td>1</td>\n",
              "      <td>0</td>\n",
              "      <td>1</td>\n",
              "    </tr>\n",
              "    <tr>\n",
              "      <th>461735</th>\n",
              "      <td>1.404849</td>\n",
              "      <td>-0.714145</td>\n",
              "      <td>-0.569334</td>\n",
              "      <td>1</td>\n",
              "      <td>1</td>\n",
              "      <td>1</td>\n",
              "      <td>0</td>\n",
              "      <td>0</td>\n",
              "      <td>0</td>\n",
              "      <td>0</td>\n",
              "      <td>0</td>\n",
              "      <td>0</td>\n",
              "      <td>1</td>\n",
              "      <td>0</td>\n",
              "      <td>1</td>\n",
              "      <td>0</td>\n",
              "      <td>0</td>\n",
              "      <td>0</td>\n",
              "      <td>0</td>\n",
              "      <td>0</td>\n",
              "      <td>1</td>\n",
              "      <td>0</td>\n",
              "      <td>1</td>\n",
              "    </tr>\n",
              "    <tr>\n",
              "      <th>462669</th>\n",
              "      <td>-0.210450</td>\n",
              "      <td>-0.714145</td>\n",
              "      <td>2.094733</td>\n",
              "      <td>0</td>\n",
              "      <td>1</td>\n",
              "      <td>1</td>\n",
              "      <td>0</td>\n",
              "      <td>0</td>\n",
              "      <td>1</td>\n",
              "      <td>0</td>\n",
              "      <td>0</td>\n",
              "      <td>0</td>\n",
              "      <td>0</td>\n",
              "      <td>0</td>\n",
              "      <td>1</td>\n",
              "      <td>0</td>\n",
              "      <td>0</td>\n",
              "      <td>0</td>\n",
              "      <td>0</td>\n",
              "      <td>0</td>\n",
              "      <td>1</td>\n",
              "      <td>0</td>\n",
              "      <td>0</td>\n",
              "    </tr>\n",
              "  </tbody>\n",
              "</table>\n",
              "</div>"
            ],
            "text/plain": [
              "             age  work_experience  ...  var_1_Cat_7  segmentation\n",
              "id                                 ...                           \n",
              "462809 -1.287316        -0.413714  ...            0             3\n",
              "462643 -0.330102        -0.714145  ...            0             0\n",
              "466315  1.404849        -0.413714  ...            0             1\n",
              "461735  1.404849        -0.714145  ...            0             1\n",
              "462669 -0.210450        -0.714145  ...            0             0\n",
              "\n",
              "[5 rows x 23 columns]"
            ]
          },
          "metadata": {
            "tags": []
          },
          "execution_count": 57
        }
      ]
    },
    {
      "cell_type": "markdown",
      "metadata": {
        "id": "S-hTnVwo3MM7"
      },
      "source": [
        "> It is hard to tell how many clusters are there in the dataset. It seems 3 would be a good number for this problem. "
      ]
    },
    {
      "cell_type": "code",
      "metadata": {
        "colab": {
          "base_uri": "https://localhost:8080/",
          "height": 293
        },
        "id": "7AGdpCMXzvq_",
        "outputId": "d4efa6f5-9dfb-4088-e878-d5cbc44327c6"
      },
      "source": [
        "dendrogram(linkage(sdf.values, method='complete'),\n",
        "             labels = sdf.index,\n",
        "             leaf_rotation=90,\n",
        "             leaf_font_size=10)\n",
        "  \n",
        "plt.show()"
      ],
      "execution_count": 64,
      "outputs": [
        {
          "output_type": "display_data",
          "data": {
            "image/png": "[encoded data removed]",
            "text/plain": [
              "<Figure size 432x288 with 1 Axes>"
            ]
          },
          "metadata": {
            "tags": [],
            "needs_background": "light"
          }
        }
      ]
    },
    {
      "cell_type": "markdown",
      "metadata": {
        "id": "7L1vUH3i3prf"
      },
      "source": [
        "> From this correlation heat graph, it is clear that there are some features which are highly correlated. So PCA would be necessary, in the sense of reducing feature dimensions and reduce noise."
      ]
    },
    {
      "cell_type": "code",
      "metadata": {
        "colab": {
          "base_uri": "https://localhost:8080/",
          "height": 406
        },
        "id": "5QIh-LTS0UFb",
        "outputId": "0e47f1af-0258-452f-ca28-f5bc660b54c5"
      },
      "source": [
        "sdfc = sdf.corr()\n",
        "sns.heatmap(sdfc)"
      ],
      "execution_count": 66,
      "outputs": [
        {
          "output_type": "execute_result",
          "data": {
            "text/plain": [
              "<matplotlib.axes._subplots.AxesSubplot at 0x7f16d48a5290>"
            ]
          },
          "metadata": {
            "tags": []
          },
          "execution_count": 66
        },
        {
          "output_type": "display_data",
          "data": {
            "image/png": "[encoded data removed]",
            "text/plain": [
              "<Figure size 432x288 with 2 Axes>"
            ]
          },
          "metadata": {
            "tags": [],
            "needs_background": "light"
          }
        }
      ]
    },
    {
      "cell_type": "markdown",
      "metadata": {
        "id": "WWkG412g4dA6"
      },
      "source": [
        "#### PCA + Kmeans"
      ]
    },
    {
      "cell_type": "markdown",
      "metadata": {
        "id": "sjzqJXvT-eDu"
      },
      "source": [
        "##### PCA"
      ]
    },
    {
      "cell_type": "code",
      "metadata": {
        "id": "ohMPO2YQ3lKY"
      },
      "source": [
        "pca = PCA()\n",
        "pcs = pca.fit_transform(sdf)"
      ],
      "execution_count": 67,
      "outputs": []
    },
    {
      "cell_type": "markdown",
      "metadata": {
        "id": "dZpOqUZu5aZB"
      },
      "source": [
        "> From the explained variance ratio chart below, there is a elbow around 5th components."
      ]
    },
    {
      "cell_type": "code",
      "metadata": {
        "colab": {
          "base_uri": "https://localhost:8080/",
          "height": 283
        },
        "id": "ZOzBn-NL4FQ3",
        "outputId": "8c4fd548-ac52-42bd-cfad-4d9424846445"
      },
      "source": [
        "varexp = pca.explained_variance_ratio_\n",
        "sns.lineplot(range(1, len(varexp)+1), varexp)"
      ],
      "execution_count": 68,
      "outputs": [
        {
          "output_type": "execute_result",
          "data": {
            "text/plain": [
              "<matplotlib.axes._subplots.AxesSubplot at 0x7f16d43f72d0>"
            ]
          },
          "metadata": {
            "tags": []
          },
          "execution_count": 68
        },
        {
          "output_type": "display_data",
          "data": {
            "image/png": "[encoded data removed]",
            "text/plain": [
              "<Figure size 432x288 with 1 Axes>"
            ]
          },
          "metadata": {
            "tags": [],
            "needs_background": "light"
          }
        }
      ]
    },
    {
      "cell_type": "markdown",
      "metadata": {
        "id": "dAKC4C2j5Iqq"
      },
      "source": [
        "> From the cumulative explained variance chart, we can conclude that around 10 components would explain 90% of the variance in the dataset. However, when we use only the 5 components, we can only explain 70% of the variance. "
      ]
    },
    {
      "cell_type": "code",
      "metadata": {
        "colab": {
          "base_uri": "https://localhost:8080/",
          "height": 299
        },
        "id": "qJq20wk74JTF",
        "outputId": "930a52bf-9b6b-40f0-b86c-23a80711b4bf"
      },
      "source": [
        "plt.title(\"Cumulative Explained Variance\")\n",
        "plt.plot(range(1, len(varexp)+1), np.cumsum(varexp))\n",
        "plt.axvline(5)\n",
        "plt.axhline(.9)"
      ],
      "execution_count": 76,
      "outputs": [
        {
          "output_type": "execute_result",
          "data": {
            "text/plain": [
              "<matplotlib.lines.Line2D at 0x7f16d4335f90>"
            ]
          },
          "metadata": {
            "tags": []
          },
          "execution_count": 76
        },
        {
          "output_type": "display_data",
          "data": {
            "image/png": "[encoded data removed]",
            "text/plain": [
              "<Figure size 432x288 with 1 Axes>"
            ]
          },
          "metadata": {
            "tags": [],
            "needs_background": "light"
          }
        }
      ]
    },
    {
      "cell_type": "markdown",
      "metadata": {
        "id": "1cMvFFnn51UC"
      },
      "source": [
        "> From the explained variance plot below, when explained variance = 1, we only have 2 components. "
      ]
    },
    {
      "cell_type": "code",
      "metadata": {
        "colab": {
          "base_uri": "https://localhost:8080/",
          "height": 501
        },
        "id": "QYQXVmrS4Mp5",
        "outputId": "7dbf8bf8-cebe-4781-fbd3-71a9a06d71d3"
      },
      "source": [
        "def ev_plot(ev):\n",
        "  y = list(ev)\n",
        "  x = list(range(1,len(ev)+1))\n",
        "  return x, y\n",
        "\n",
        "ev = pca.explained_variance_\n",
        "\n",
        "x, y = ev_plot(pca.explained_variance_)\n",
        "\n",
        "plt.figure(figsize=(10,8))\n",
        "sns.barplot(x, y)\n",
        "plt.axhline(1)"
      ],
      "execution_count": 72,
      "outputs": [
        {
          "output_type": "execute_result",
          "data": {
            "text/plain": [
              "<matplotlib.lines.Line2D at 0x7f16d48dd510>"
            ]
          },
          "metadata": {
            "tags": []
          },
          "execution_count": 72
        },
        {
          "output_type": "display_data",
          "data": {
            "image/png": "[encoded data removed]",
            "text/plain": [
              "<Figure size 720x576 with 1 Axes>"
            ]
          },
          "metadata": {
            "tags": [],
            "needs_background": "light"
          }
        }
      ]
    },
    {
      "cell_type": "markdown",
      "metadata": {
        "id": "C2f6Vdds6NT9"
      },
      "source": [
        "> Based on the charts shown above, I would choose only the first 10 components to for I was trying to find a balance points between reducing dimensions and explaining as much variance as possible. "
      ]
    },
    {
      "cell_type": "code",
      "metadata": {
        "colab": {
          "base_uri": "https://localhost:8080/",
          "height": 225
        },
        "id": "JZKZtQIa4Vsb",
        "outputId": "4233fd4d-9e6b-41ea-ee28-a6a92fc25ee4"
      },
      "source": [
        "comps = pca.components_\n",
        "COLS = [\"PC\" + str(i) for i in range(1, len(comps)+1)]\n",
        "loadings = pd.DataFrame(comps.T, columns=COLS, index=sdf.columns)\n",
        "loadings.head()"
      ],
      "execution_count": 75,
      "outputs": [
        {
          "output_type": "execute_result",
          "data": {
            "text/html": [
              "<div>\n",
              "<style scoped>\n",
              "    .dataframe tbody tr th:only-of-type {\n",
              "        vertical-align: middle;\n",
              "    }\n",
              "\n",
              "    .dataframe tbody tr th {\n",
              "        vertical-align: top;\n",
              "    }\n",
              "\n",
              "    .dataframe thead th {\n",
              "        text-align: right;\n",
              "    }\n",
              "</style>\n",
              "<table border=\"1\" class=\"dataframe\">\n",
              "  <thead>\n",
              "    <tr style=\"text-align: right;\">\n",
              "      <th></th>\n",
              "      <th>PC1</th>\n",
              "      <th>PC2</th>\n",
              "      <th>PC3</th>\n",
              "      <th>PC4</th>\n",
              "      <th>PC5</th>\n",
              "      <th>PC6</th>\n",
              "      <th>PC7</th>\n",
              "      <th>PC8</th>\n",
              "      <th>PC9</th>\n",
              "      <th>PC10</th>\n",
              "      <th>PC11</th>\n",
              "      <th>PC12</th>\n",
              "      <th>PC13</th>\n",
              "      <th>PC14</th>\n",
              "      <th>PC15</th>\n",
              "      <th>PC16</th>\n",
              "      <th>PC17</th>\n",
              "      <th>PC18</th>\n",
              "      <th>PC19</th>\n",
              "      <th>PC20</th>\n",
              "      <th>PC21</th>\n",
              "      <th>PC22</th>\n",
              "      <th>PC23</th>\n",
              "    </tr>\n",
              "  </thead>\n",
              "  <tbody>\n",
              "    <tr>\n",
              "      <th>age</th>\n",
              "      <td>-0.564526</td>\n",
              "      <td>-0.353579</td>\n",
              "      <td>-0.292301</td>\n",
              "      <td>0.436476</td>\n",
              "      <td>0.293482</td>\n",
              "      <td>0.220251</td>\n",
              "      <td>0.285470</td>\n",
              "      <td>-0.096202</td>\n",
              "      <td>0.002664</td>\n",
              "      <td>0.006886</td>\n",
              "      <td>-0.007255</td>\n",
              "      <td>0.016981</td>\n",
              "      <td>-0.013988</td>\n",
              "      <td>0.055313</td>\n",
              "      <td>0.018464</td>\n",
              "      <td>-0.206975</td>\n",
              "      <td>0.001487</td>\n",
              "      <td>0.071317</td>\n",
              "      <td>-0.042920</td>\n",
              "      <td>0.034397</td>\n",
              "      <td>-0.001115</td>\n",
              "      <td>0.001838</td>\n",
              "      <td>0.002065</td>\n",
              "    </tr>\n",
              "    <tr>\n",
              "      <th>work_experience</th>\n",
              "      <td>0.109319</td>\n",
              "      <td>0.791614</td>\n",
              "      <td>-0.195963</td>\n",
              "      <td>0.558815</td>\n",
              "      <td>0.060833</td>\n",
              "      <td>-0.003179</td>\n",
              "      <td>0.073825</td>\n",
              "      <td>0.001400</td>\n",
              "      <td>0.011543</td>\n",
              "      <td>-0.000338</td>\n",
              "      <td>-0.001989</td>\n",
              "      <td>0.017793</td>\n",
              "      <td>-0.009196</td>\n",
              "      <td>0.008622</td>\n",
              "      <td>-0.010228</td>\n",
              "      <td>-0.008215</td>\n",
              "      <td>-0.010553</td>\n",
              "      <td>0.013483</td>\n",
              "      <td>0.011028</td>\n",
              "      <td>-0.017901</td>\n",
              "      <td>-0.005918</td>\n",
              "      <td>-0.000005</td>\n",
              "      <td>0.001378</td>\n",
              "    </tr>\n",
              "    <tr>\n",
              "      <th>family_size</th>\n",
              "      <td>0.409687</td>\n",
              "      <td>-0.288868</td>\n",
              "      <td>0.617693</td>\n",
              "      <td>0.541461</td>\n",
              "      <td>0.010426</td>\n",
              "      <td>0.235135</td>\n",
              "      <td>0.052319</td>\n",
              "      <td>-0.102614</td>\n",
              "      <td>-0.046444</td>\n",
              "      <td>0.020109</td>\n",
              "      <td>0.033236</td>\n",
              "      <td>0.004621</td>\n",
              "      <td>0.009120</td>\n",
              "      <td>-0.019529</td>\n",
              "      <td>-0.009859</td>\n",
              "      <td>0.026208</td>\n",
              "      <td>0.001559</td>\n",
              "      <td>-0.003687</td>\n",
              "      <td>-0.011929</td>\n",
              "      <td>0.011862</td>\n",
              "      <td>-0.008507</td>\n",
              "      <td>-0.003725</td>\n",
              "      <td>0.001271</td>\n",
              "    </tr>\n",
              "    <tr>\n",
              "      <th>gender_Male</th>\n",
              "      <td>0.002111</td>\n",
              "      <td>-0.053200</td>\n",
              "      <td>0.010244</td>\n",
              "      <td>0.043834</td>\n",
              "      <td>-0.511861</td>\n",
              "      <td>-0.413404</td>\n",
              "      <td>0.663237</td>\n",
              "      <td>-0.199841</td>\n",
              "      <td>0.052192</td>\n",
              "      <td>-0.073195</td>\n",
              "      <td>0.117277</td>\n",
              "      <td>0.068373</td>\n",
              "      <td>0.099455</td>\n",
              "      <td>0.177540</td>\n",
              "      <td>-0.054990</td>\n",
              "      <td>0.063969</td>\n",
              "      <td>0.050504</td>\n",
              "      <td>0.017023</td>\n",
              "      <td>-0.038888</td>\n",
              "      <td>0.054370</td>\n",
              "      <td>0.004138</td>\n",
              "      <td>0.007007</td>\n",
              "      <td>0.001603</td>\n",
              "    </tr>\n",
              "    <tr>\n",
              "      <th>ever_married_Yes</th>\n",
              "      <td>-0.193477</td>\n",
              "      <td>-0.125889</td>\n",
              "      <td>-0.025031</td>\n",
              "      <td>0.252820</td>\n",
              "      <td>-0.149806</td>\n",
              "      <td>-0.361850</td>\n",
              "      <td>-0.256137</td>\n",
              "      <td>0.068077</td>\n",
              "      <td>-0.250453</td>\n",
              "      <td>0.005445</td>\n",
              "      <td>0.010524</td>\n",
              "      <td>0.459105</td>\n",
              "      <td>-0.051588</td>\n",
              "      <td>-0.424254</td>\n",
              "      <td>0.151915</td>\n",
              "      <td>0.307538</td>\n",
              "      <td>-0.270678</td>\n",
              "      <td>0.089563</td>\n",
              "      <td>-0.057313</td>\n",
              "      <td>0.000106</td>\n",
              "      <td>0.003105</td>\n",
              "      <td>-0.002471</td>\n",
              "      <td>-0.003546</td>\n",
              "    </tr>\n",
              "  </tbody>\n",
              "</table>\n",
              "</div>"
            ],
            "text/plain": [
              "                       PC1       PC2       PC3  ...      PC21      PC22      PC23\n",
              "age              -0.564526 -0.353579 -0.292301  ... -0.001115  0.001838  0.002065\n",
              "work_experience   0.109319  0.791614 -0.195963  ... -0.005918 -0.000005  0.001378\n",
              "family_size       0.409687 -0.288868  0.617693  ... -0.008507 -0.003725  0.001271\n",
              "gender_Male       0.002111 -0.053200  0.010244  ...  0.004138  0.007007  0.001603\n",
              "ever_married_Yes -0.193477 -0.125889 -0.025031  ...  0.003105 -0.002471 -0.003546\n",
              "\n",
              "[5 rows x 23 columns]"
            ]
          },
          "metadata": {
            "tags": []
          },
          "execution_count": 75
        }
      ]
    },
    {
      "cell_type": "code",
      "metadata": {
        "id": "RePe4JWy4igA"
      },
      "source": [
        "compns = pcs[:, :10]\n",
        "cdf = pd.DataFrame(compns, columns=['pc1', 'pc2', 'pc3', 'pc4','pc5','pc6','pc7','pc8','pc9','pc10'], index=sdf.index)"
      ],
      "execution_count": 78,
      "outputs": []
    },
    {
      "cell_type": "markdown",
      "metadata": {
        "id": "5SIYkSlr-bbj"
      },
      "source": [
        "##### Kmeans"
      ]
    },
    {
      "cell_type": "code",
      "metadata": {
        "id": "_1sIZ8F86_hA"
      },
      "source": [
        "temp_cdf = cdf.copy()\n",
        "temp_cdf['segmentation'] = sdf['segmentation']"
      ],
      "execution_count": 88,
      "outputs": []
    },
    {
      "cell_type": "code",
      "metadata": {
        "id": "sTe9ahF17dqQ"
      },
      "source": [
        "# use 2 to 10 clusters\n",
        "KRANGE = range(2,10)\n",
        "\n",
        "# storage\n",
        "inertia = []\n",
        "silo = []\n",
        "\n",
        "for k in KRANGE:\n",
        "  km = KMeans(k)\n",
        "  km.fit(cdf)\n",
        "  labs = km.predict(cdf)\n",
        "  inertia.append(km.inertia_)\n",
        "  silo.append(silhouette_score(cdf, labs))"
      ],
      "execution_count": 89,
      "outputs": []
    },
    {
      "cell_type": "code",
      "metadata": {
        "colab": {
          "base_uri": "https://localhost:8080/",
          "height": 325
        },
        "id": "PICyMGmp71dv",
        "outputId": "d5765ff2-ac6a-41dc-c5ee-e63227482a20"
      },
      "source": [
        "plt.figure(figsize=(15,5))\n",
        "\n",
        "\n",
        "plt.subplot(1, 2, 1)\n",
        "plt.title(\"Inertia\")\n",
        "sns.lineplot(KRANGE, inertia)\n",
        "\n",
        "plt.subplot(1, 2, 2)\n",
        "plt.title(\"Silohouette Score\")\n",
        "sns.lineplot(KRANGE, silo)\n",
        "\n",
        "plt.show();"
      ],
      "execution_count": 90,
      "outputs": [
        {
          "output_type": "display_data",
          "data": {
            "image/png": "[encoded data removed]",
            "text/plain": [
              "<Figure size 1080x360 with 2 Axes>"
            ]
          },
          "metadata": {
            "tags": [],
            "needs_background": "light"
          }
        }
      ]
    },
    {
      "cell_type": "code",
      "metadata": {
        "colab": {
          "base_uri": "https://localhost:8080/"
        },
        "id": "sI4oWzop74T8",
        "outputId": "b43c9d7a-d426-4611-cc86-d4760409af4b"
      },
      "source": [
        "k3 = KMeans(3)\n",
        "k3_labs = k3.fit_predict(cdf)\n",
        "\n",
        "# metrics\n",
        "k3_silo = silhouette_score(cdf, k3_labs)\n",
        "k3_ssamps = silhouette_samples(cdf, k3_labs)\n",
        "np.unique(k3_labs)"
      ],
      "execution_count": 91,
      "outputs": [
        {
          "output_type": "execute_result",
          "data": {
            "text/plain": [
              "array([0, 1, 2], dtype=int32)"
            ]
          },
          "metadata": {
            "tags": []
          },
          "execution_count": 91
        }
      ]
    },
    {
      "cell_type": "code",
      "metadata": {
        "colab": {
          "base_uri": "https://localhost:8080/",
          "height": 348
        },
        "id": "KHKNT7ao8CAP",
        "outputId": "d1fad01f-4112-414b-d571-58e4dba5e544"
      },
      "source": [
        "skplt.metrics.plot_silhouette(sdf, k3_labs, title=\"Kmeans-3\", figsize=(15,5))\n",
        "plt.show()"
      ],
      "execution_count": 116,
      "outputs": [
        {
          "output_type": "display_data",
          "data": {
            "image/png": "[encoded data removed]",
            "text/plain": [
              "<Figure size 1080x360 with 1 Axes>"
            ]
          },
          "metadata": {
            "tags": [],
            "needs_background": "light"
          }
        }
      ]
    },
    {
      "cell_type": "code",
      "metadata": {
        "id": "_hUCG2rO8FWy"
      },
      "source": [
        "sdf['k3_labs'] = k3_labs"
      ],
      "execution_count": 99,
      "outputs": []
    },
    {
      "cell_type": "code",
      "metadata": {
        "colab": {
          "base_uri": "https://localhost:8080/"
        },
        "id": "5p2IjpFA9A4J",
        "outputId": "3d0fd1e8-b3f2-4184-fda1-9ea9e41938dc"
      },
      "source": [
        "sdf['k3_labs'].value_counts()"
      ],
      "execution_count": 100,
      "outputs": [
        {
          "output_type": "execute_result",
          "data": {
            "text/plain": [
              "1    4200\n",
              "2    2054\n",
              "0    1482\n",
              "Name: k3_labs, dtype: int64"
            ]
          },
          "metadata": {
            "tags": []
          },
          "execution_count": 100
        }
      ]
    },
    {
      "cell_type": "code",
      "metadata": {
        "colab": {
          "base_uri": "https://localhost:8080/",
          "height": 195
        },
        "id": "auF1gzp19Gh-",
        "outputId": "55d30894-14f3-419c-f4fd-d9abec46b829"
      },
      "source": [
        "profile = sdf.groupby('k3_labs').mean()\n",
        "profile"
      ],
      "execution_count": 101,
      "outputs": [
        {
          "output_type": "execute_result",
          "data": {
            "text/html": [
              "<div>\n",
              "<style scoped>\n",
              "    .dataframe tbody tr th:only-of-type {\n",
              "        vertical-align: middle;\n",
              "    }\n",
              "\n",
              "    .dataframe tbody tr th {\n",
              "        vertical-align: top;\n",
              "    }\n",
              "\n",
              "    .dataframe thead th {\n",
              "        text-align: right;\n",
              "    }\n",
              "</style>\n",
              "<table border=\"1\" class=\"dataframe\">\n",
              "  <thead>\n",
              "    <tr style=\"text-align: right;\">\n",
              "      <th></th>\n",
              "      <th>age</th>\n",
              "      <th>work_experience</th>\n",
              "      <th>family_size</th>\n",
              "      <th>gender_Male</th>\n",
              "      <th>ever_married_Yes</th>\n",
              "      <th>graduated_Yes</th>\n",
              "      <th>profession_Doctor</th>\n",
              "      <th>profession_Engineer</th>\n",
              "      <th>profession_Entertainment</th>\n",
              "      <th>profession_Executive</th>\n",
              "      <th>profession_Healthcare</th>\n",
              "      <th>profession_Homemaker</th>\n",
              "      <th>profession_Lawyer</th>\n",
              "      <th>profession_Marketing</th>\n",
              "      <th>spending_score_High</th>\n",
              "      <th>spending_score_Low</th>\n",
              "      <th>var_1_Cat_2</th>\n",
              "      <th>var_1_Cat_3</th>\n",
              "      <th>var_1_Cat_4</th>\n",
              "      <th>var_1_Cat_5</th>\n",
              "      <th>var_1_Cat_6</th>\n",
              "      <th>var_1_Cat_7</th>\n",
              "      <th>segmentation</th>\n",
              "    </tr>\n",
              "    <tr>\n",
              "      <th>k3_labs</th>\n",
              "      <th></th>\n",
              "      <th></th>\n",
              "      <th></th>\n",
              "      <th></th>\n",
              "      <th></th>\n",
              "      <th></th>\n",
              "      <th></th>\n",
              "      <th></th>\n",
              "      <th></th>\n",
              "      <th></th>\n",
              "      <th></th>\n",
              "      <th></th>\n",
              "      <th></th>\n",
              "      <th></th>\n",
              "      <th></th>\n",
              "      <th></th>\n",
              "      <th></th>\n",
              "      <th></th>\n",
              "      <th></th>\n",
              "      <th></th>\n",
              "      <th></th>\n",
              "      <th></th>\n",
              "      <th></th>\n",
              "    </tr>\n",
              "  </thead>\n",
              "  <tbody>\n",
              "    <tr>\n",
              "      <th>0</th>\n",
              "      <td>-0.273627</td>\n",
              "      <td>1.767350</td>\n",
              "      <td>-0.310477</td>\n",
              "      <td>0.482456</td>\n",
              "      <td>0.543860</td>\n",
              "      <td>0.723347</td>\n",
              "      <td>0.091768</td>\n",
              "      <td>0.087719</td>\n",
              "      <td>0.137652</td>\n",
              "      <td>0.064103</td>\n",
              "      <td>0.096491</td>\n",
              "      <td>0.089744</td>\n",
              "      <td>0.020243</td>\n",
              "      <td>0.033738</td>\n",
              "      <td>0.107962</td>\n",
              "      <td>0.649798</td>\n",
              "      <td>0.057355</td>\n",
              "      <td>0.093117</td>\n",
              "      <td>0.095816</td>\n",
              "      <td>0.008097</td>\n",
              "      <td>0.711876</td>\n",
              "      <td>0.022267</td>\n",
              "      <td>1.377868</td>\n",
              "    </tr>\n",
              "    <tr>\n",
              "      <th>1</th>\n",
              "      <td>0.528656</td>\n",
              "      <td>-0.482742</td>\n",
              "      <td>-0.216504</td>\n",
              "      <td>0.566667</td>\n",
              "      <td>0.797619</td>\n",
              "      <td>0.739286</td>\n",
              "      <td>0.073333</td>\n",
              "      <td>0.090476</td>\n",
              "      <td>0.131429</td>\n",
              "      <td>0.096905</td>\n",
              "      <td>0.024048</td>\n",
              "      <td>0.017143</td>\n",
              "      <td>0.135714</td>\n",
              "      <td>0.017857</td>\n",
              "      <td>0.220476</td>\n",
              "      <td>0.449762</td>\n",
              "      <td>0.040476</td>\n",
              "      <td>0.092381</td>\n",
              "      <td>0.115000</td>\n",
              "      <td>0.007857</td>\n",
              "      <td>0.705714</td>\n",
              "      <td>0.023333</td>\n",
              "      <td>1.069286</td>\n",
              "    </tr>\n",
              "    <tr>\n",
              "      <th>2</th>\n",
              "      <td>-0.883564</td>\n",
              "      <td>-0.288071</td>\n",
              "      <td>0.666720</td>\n",
              "      <td>0.565239</td>\n",
              "      <td>0.182084</td>\n",
              "      <td>0.342259</td>\n",
              "      <td>0.111003</td>\n",
              "      <td>0.081305</td>\n",
              "      <td>0.085200</td>\n",
              "      <td>0.038948</td>\n",
              "      <td>0.505842</td>\n",
              "      <td>0.015093</td>\n",
              "      <td>0.004382</td>\n",
              "      <td>0.076923</td>\n",
              "      <td>0.035540</td>\n",
              "      <td>0.894352</td>\n",
              "      <td>0.075463</td>\n",
              "      <td>0.121714</td>\n",
              "      <td>0.197176</td>\n",
              "      <td>0.018014</td>\n",
              "      <td>0.535054</td>\n",
              "      <td>0.029698</td>\n",
              "      <td>2.685979</td>\n",
              "    </tr>\n",
              "  </tbody>\n",
              "</table>\n",
              "</div>"
            ],
            "text/plain": [
              "              age  work_experience  ...  var_1_Cat_7  segmentation\n",
              "k3_labs                             ...                           \n",
              "0       -0.273627         1.767350  ...     0.022267      1.377868\n",
              "1        0.528656        -0.482742  ...     0.023333      1.069286\n",
              "2       -0.883564        -0.288071  ...     0.029698      2.685979\n",
              "\n",
              "[3 rows x 23 columns]"
            ]
          },
          "metadata": {
            "tags": []
          },
          "execution_count": 101
        }
      ]
    },
    {
      "cell_type": "markdown",
      "metadata": {
        "id": "VrFCjlL89UXH"
      },
      "source": [
        ">The profile dataset has different scale, so it would be reasonable to scale the data."
      ]
    },
    {
      "cell_type": "code",
      "metadata": {
        "colab": {
          "base_uri": "https://localhost:8080/",
          "height": 319
        },
        "id": "PvW85Tib9NtQ",
        "outputId": "552e15e0-57cf-40bf-f5cf-ad157a06b5d8"
      },
      "source": [
        "profile.describe()"
      ],
      "execution_count": 103,
      "outputs": [
        {
          "output_type": "execute_result",
          "data": {
            "text/html": [
              "<div>\n",
              "<style scoped>\n",
              "    .dataframe tbody tr th:only-of-type {\n",
              "        vertical-align: middle;\n",
              "    }\n",
              "\n",
              "    .dataframe tbody tr th {\n",
              "        vertical-align: top;\n",
              "    }\n",
              "\n",
              "    .dataframe thead th {\n",
              "        text-align: right;\n",
              "    }\n",
              "</style>\n",
              "<table border=\"1\" class=\"dataframe\">\n",
              "  <thead>\n",
              "    <tr style=\"text-align: right;\">\n",
              "      <th></th>\n",
              "      <th>age</th>\n",
              "      <th>work_experience</th>\n",
              "      <th>family_size</th>\n",
              "      <th>gender_Male</th>\n",
              "      <th>ever_married_Yes</th>\n",
              "      <th>graduated_Yes</th>\n",
              "      <th>profession_Doctor</th>\n",
              "      <th>profession_Engineer</th>\n",
              "      <th>profession_Entertainment</th>\n",
              "      <th>profession_Executive</th>\n",
              "      <th>profession_Healthcare</th>\n",
              "      <th>profession_Homemaker</th>\n",
              "      <th>profession_Lawyer</th>\n",
              "      <th>profession_Marketing</th>\n",
              "      <th>spending_score_High</th>\n",
              "      <th>spending_score_Low</th>\n",
              "      <th>var_1_Cat_2</th>\n",
              "      <th>var_1_Cat_3</th>\n",
              "      <th>var_1_Cat_4</th>\n",
              "      <th>var_1_Cat_5</th>\n",
              "      <th>var_1_Cat_6</th>\n",
              "      <th>var_1_Cat_7</th>\n",
              "      <th>segmentation</th>\n",
              "    </tr>\n",
              "  </thead>\n",
              "  <tbody>\n",
              "    <tr>\n",
              "      <th>count</th>\n",
              "      <td>3.000000</td>\n",
              "      <td>3.000000</td>\n",
              "      <td>3.000000</td>\n",
              "      <td>3.000000</td>\n",
              "      <td>3.000000</td>\n",
              "      <td>3.000000</td>\n",
              "      <td>3.000000</td>\n",
              "      <td>3.000000</td>\n",
              "      <td>3.000000</td>\n",
              "      <td>3.000000</td>\n",
              "      <td>3.000000</td>\n",
              "      <td>3.000000</td>\n",
              "      <td>3.000000</td>\n",
              "      <td>3.000000</td>\n",
              "      <td>3.000000</td>\n",
              "      <td>3.000000</td>\n",
              "      <td>3.000000</td>\n",
              "      <td>3.000000</td>\n",
              "      <td>3.000000</td>\n",
              "      <td>3.000000</td>\n",
              "      <td>3.000000</td>\n",
              "      <td>3.000000</td>\n",
              "      <td>3.000000</td>\n",
              "    </tr>\n",
              "    <tr>\n",
              "      <th>mean</th>\n",
              "      <td>-0.209512</td>\n",
              "      <td>0.332179</td>\n",
              "      <td>0.046580</td>\n",
              "      <td>0.538120</td>\n",
              "      <td>0.507854</td>\n",
              "      <td>0.601631</td>\n",
              "      <td>0.092035</td>\n",
              "      <td>0.086500</td>\n",
              "      <td>0.118093</td>\n",
              "      <td>0.066652</td>\n",
              "      <td>0.208794</td>\n",
              "      <td>0.040660</td>\n",
              "      <td>0.053446</td>\n",
              "      <td>0.042839</td>\n",
              "      <td>0.121326</td>\n",
              "      <td>0.664637</td>\n",
              "      <td>0.057765</td>\n",
              "      <td>0.102404</td>\n",
              "      <td>0.135998</td>\n",
              "      <td>0.011323</td>\n",
              "      <td>0.650881</td>\n",
              "      <td>0.025100</td>\n",
              "      <td>1.711044</td>\n",
              "    </tr>\n",
              "    <tr>\n",
              "      <th>std</th>\n",
              "      <td>0.708290</td>\n",
              "      <td>1.246700</td>\n",
              "      <td>0.539109</td>\n",
              "      <td>0.048212</td>\n",
              "      <td>0.309343</td>\n",
              "      <td>0.224764</td>\n",
              "      <td>0.018836</td>\n",
              "      <td>0.004706</td>\n",
              "      <td>0.028656</td>\n",
              "      <td>0.029062</td>\n",
              "      <td>0.259789</td>\n",
              "      <td>0.042520</td>\n",
              "      <td>0.071686</td>\n",
              "      <td>0.030567</td>\n",
              "      <td>0.093189</td>\n",
              "      <td>0.222666</td>\n",
              "      <td>0.017497</td>\n",
              "      <td>0.016727</td>\n",
              "      <td>0.053844</td>\n",
              "      <td>0.005796</td>\n",
              "      <td>0.100357</td>\n",
              "      <td>0.004018</td>\n",
              "      <td>0.858300</td>\n",
              "    </tr>\n",
              "    <tr>\n",
              "      <th>min</th>\n",
              "      <td>-0.883564</td>\n",
              "      <td>-0.482742</td>\n",
              "      <td>-0.310477</td>\n",
              "      <td>0.482456</td>\n",
              "      <td>0.182084</td>\n",
              "      <td>0.342259</td>\n",
              "      <td>0.073333</td>\n",
              "      <td>0.081305</td>\n",
              "      <td>0.085200</td>\n",
              "      <td>0.038948</td>\n",
              "      <td>0.024048</td>\n",
              "      <td>0.015093</td>\n",
              "      <td>0.004382</td>\n",
              "      <td>0.017857</td>\n",
              "      <td>0.035540</td>\n",
              "      <td>0.449762</td>\n",
              "      <td>0.040476</td>\n",
              "      <td>0.092381</td>\n",
              "      <td>0.095816</td>\n",
              "      <td>0.007857</td>\n",
              "      <td>0.535054</td>\n",
              "      <td>0.022267</td>\n",
              "      <td>1.069286</td>\n",
              "    </tr>\n",
              "    <tr>\n",
              "      <th>25%</th>\n",
              "      <td>-0.578595</td>\n",
              "      <td>-0.385406</td>\n",
              "      <td>-0.263491</td>\n",
              "      <td>0.523847</td>\n",
              "      <td>0.362972</td>\n",
              "      <td>0.532803</td>\n",
              "      <td>0.082551</td>\n",
              "      <td>0.084512</td>\n",
              "      <td>0.108314</td>\n",
              "      <td>0.051525</td>\n",
              "      <td>0.060269</td>\n",
              "      <td>0.016118</td>\n",
              "      <td>0.012312</td>\n",
              "      <td>0.025798</td>\n",
              "      <td>0.071751</td>\n",
              "      <td>0.549780</td>\n",
              "      <td>0.048916</td>\n",
              "      <td>0.092749</td>\n",
              "      <td>0.105408</td>\n",
              "      <td>0.007977</td>\n",
              "      <td>0.620384</td>\n",
              "      <td>0.022800</td>\n",
              "      <td>1.223577</td>\n",
              "    </tr>\n",
              "    <tr>\n",
              "      <th>50%</th>\n",
              "      <td>-0.273627</td>\n",
              "      <td>-0.288071</td>\n",
              "      <td>-0.216504</td>\n",
              "      <td>0.565239</td>\n",
              "      <td>0.543860</td>\n",
              "      <td>0.723347</td>\n",
              "      <td>0.091768</td>\n",
              "      <td>0.087719</td>\n",
              "      <td>0.131429</td>\n",
              "      <td>0.064103</td>\n",
              "      <td>0.096491</td>\n",
              "      <td>0.017143</td>\n",
              "      <td>0.020243</td>\n",
              "      <td>0.033738</td>\n",
              "      <td>0.107962</td>\n",
              "      <td>0.649798</td>\n",
              "      <td>0.057355</td>\n",
              "      <td>0.093117</td>\n",
              "      <td>0.115000</td>\n",
              "      <td>0.008097</td>\n",
              "      <td>0.705714</td>\n",
              "      <td>0.023333</td>\n",
              "      <td>1.377868</td>\n",
              "    </tr>\n",
              "    <tr>\n",
              "      <th>75%</th>\n",
              "      <td>0.127515</td>\n",
              "      <td>0.739640</td>\n",
              "      <td>0.225108</td>\n",
              "      <td>0.565953</td>\n",
              "      <td>0.670739</td>\n",
              "      <td>0.731316</td>\n",
              "      <td>0.101385</td>\n",
              "      <td>0.089098</td>\n",
              "      <td>0.134540</td>\n",
              "      <td>0.080504</td>\n",
              "      <td>0.301167</td>\n",
              "      <td>0.053443</td>\n",
              "      <td>0.077979</td>\n",
              "      <td>0.055331</td>\n",
              "      <td>0.164219</td>\n",
              "      <td>0.772075</td>\n",
              "      <td>0.066409</td>\n",
              "      <td>0.107416</td>\n",
              "      <td>0.156088</td>\n",
              "      <td>0.013055</td>\n",
              "      <td>0.708795</td>\n",
              "      <td>0.026516</td>\n",
              "      <td>2.031923</td>\n",
              "    </tr>\n",
              "    <tr>\n",
              "      <th>max</th>\n",
              "      <td>0.528656</td>\n",
              "      <td>1.767350</td>\n",
              "      <td>0.666720</td>\n",
              "      <td>0.566667</td>\n",
              "      <td>0.797619</td>\n",
              "      <td>0.739286</td>\n",
              "      <td>0.111003</td>\n",
              "      <td>0.090476</td>\n",
              "      <td>0.137652</td>\n",
              "      <td>0.096905</td>\n",
              "      <td>0.505842</td>\n",
              "      <td>0.089744</td>\n",
              "      <td>0.135714</td>\n",
              "      <td>0.076923</td>\n",
              "      <td>0.220476</td>\n",
              "      <td>0.894352</td>\n",
              "      <td>0.075463</td>\n",
              "      <td>0.121714</td>\n",
              "      <td>0.197176</td>\n",
              "      <td>0.018014</td>\n",
              "      <td>0.711876</td>\n",
              "      <td>0.029698</td>\n",
              "      <td>2.685979</td>\n",
              "    </tr>\n",
              "  </tbody>\n",
              "</table>\n",
              "</div>"
            ],
            "text/plain": [
              "            age  work_experience  ...  var_1_Cat_7  segmentation\n",
              "count  3.000000         3.000000  ...     3.000000      3.000000\n",
              "mean  -0.209512         0.332179  ...     0.025100      1.711044\n",
              "std    0.708290         1.246700  ...     0.004018      0.858300\n",
              "min   -0.883564        -0.482742  ...     0.022267      1.069286\n",
              "25%   -0.578595        -0.385406  ...     0.022800      1.223577\n",
              "50%   -0.273627        -0.288071  ...     0.023333      1.377868\n",
              "75%    0.127515         0.739640  ...     0.026516      2.031923\n",
              "max    0.528656         1.767350  ...     0.029698      2.685979\n",
              "\n",
              "[8 rows x 23 columns]"
            ]
          },
          "metadata": {
            "tags": []
          },
          "execution_count": 103
        }
      ]
    },
    {
      "cell_type": "code",
      "metadata": {
        "colab": {
          "base_uri": "https://localhost:8080/",
          "height": 511
        },
        "id": "Pou3Yqsp9Rt2",
        "outputId": "04d149fc-8afb-4eb9-eb80-e93b833f7f78"
      },
      "source": [
        "sc = StandardScaler()\n",
        "profile_scaled = sc.fit_transform(profile)\n",
        "\n",
        "plt.figure(figsize=(12, 6))\n",
        "pal = sns.color_palette(\"vlag\", as_cmap=True)\n",
        "sns.heatmap(profile_scaled, center=0, cmap=pal, xticklabels=profile.columns)"
      ],
      "execution_count": 104,
      "outputs": [
        {
          "output_type": "execute_result",
          "data": {
            "text/plain": [
              "<matplotlib.axes._subplots.AxesSubplot at 0x7f16cdaac090>"
            ]
          },
          "metadata": {
            "tags": []
          },
          "execution_count": 104
        },
        {
          "output_type": "display_data",
          "data": {
            "image/png": "[encoded data removed]",
            "text/plain": [
              "<Figure size 864x432 with 2 Axes>"
            ]
          },
          "metadata": {
            "tags": [],
            "needs_background": "light"
          }
        }
      ]
    },
    {
      "cell_type": "markdown",
      "metadata": {
        "id": "40hXc4XP9eUn"
      },
      "source": [
        "#### TSNE + Kmeans"
      ]
    },
    {
      "cell_type": "markdown",
      "metadata": {
        "id": "WkY7VaCX-V_m"
      },
      "source": [
        "##### TSNE"
      ]
    },
    {
      "cell_type": "code",
      "metadata": {
        "colab": {
          "base_uri": "https://localhost:8080/"
        },
        "id": "cCk33mZX903I",
        "outputId": "cc88647a-ef14-4abd-9718-c439aa58fc32"
      },
      "source": [
        "tsne = TSNE()\n",
        "tsne.fit(sdf)"
      ],
      "execution_count": 107,
      "outputs": [
        {
          "output_type": "execute_result",
          "data": {
            "text/plain": [
              "TSNE(angle=0.5, early_exaggeration=12.0, init='random', learning_rate=200.0,\n",
              "     method='barnes_hut', metric='euclidean', min_grad_norm=1e-07,\n",
              "     n_components=2, n_iter=1000, n_iter_without_progress=300, n_jobs=None,\n",
              "     perplexity=30.0, random_state=None, verbose=0)"
            ]
          },
          "metadata": {
            "tags": []
          },
          "execution_count": 107
        }
      ]
    },
    {
      "cell_type": "code",
      "metadata": {
        "colab": {
          "base_uri": "https://localhost:8080/",
          "height": 236
        },
        "id": "G8PM7KzM-A40",
        "outputId": "534e763e-86fb-4c3c-8edc-fa787afa5a10"
      },
      "source": [
        "te = tsne.embedding_\n",
        "tdata = pd.DataFrame(te, columns=[\"e1\", \"e2\"], index=sdf.index)\n",
        "tdata['segmentation'] = sdf['segmentation']\n",
        "tdata.head()"
      ],
      "execution_count": 109,
      "outputs": [
        {
          "output_type": "execute_result",
          "data": {
            "text/html": [
              "<div>\n",
              "<style scoped>\n",
              "    .dataframe tbody tr th:only-of-type {\n",
              "        vertical-align: middle;\n",
              "    }\n",
              "\n",
              "    .dataframe tbody tr th {\n",
              "        vertical-align: top;\n",
              "    }\n",
              "\n",
              "    .dataframe thead th {\n",
              "        text-align: right;\n",
              "    }\n",
              "</style>\n",
              "<table border=\"1\" class=\"dataframe\">\n",
              "  <thead>\n",
              "    <tr style=\"text-align: right;\">\n",
              "      <th></th>\n",
              "      <th>e1</th>\n",
              "      <th>e2</th>\n",
              "      <th>segmentation</th>\n",
              "    </tr>\n",
              "    <tr>\n",
              "      <th>id</th>\n",
              "      <th></th>\n",
              "      <th></th>\n",
              "      <th></th>\n",
              "    </tr>\n",
              "  </thead>\n",
              "  <tbody>\n",
              "    <tr>\n",
              "      <th>462809</th>\n",
              "      <td>-58.842152</td>\n",
              "      <td>-26.756887</td>\n",
              "      <td>3</td>\n",
              "    </tr>\n",
              "    <tr>\n",
              "      <th>462643</th>\n",
              "      <td>-13.788918</td>\n",
              "      <td>-13.168706</td>\n",
              "      <td>0</td>\n",
              "    </tr>\n",
              "    <tr>\n",
              "      <th>466315</th>\n",
              "      <td>30.637024</td>\n",
              "      <td>9.881070</td>\n",
              "      <td>1</td>\n",
              "    </tr>\n",
              "    <tr>\n",
              "      <th>461735</th>\n",
              "      <td>4.394300</td>\n",
              "      <td>80.183800</td>\n",
              "      <td>1</td>\n",
              "    </tr>\n",
              "    <tr>\n",
              "      <th>462669</th>\n",
              "      <td>-4.500636</td>\n",
              "      <td>11.605991</td>\n",
              "      <td>0</td>\n",
              "    </tr>\n",
              "  </tbody>\n",
              "</table>\n",
              "</div>"
            ],
            "text/plain": [
              "               e1         e2  segmentation\n",
              "id                                        \n",
              "462809 -58.842152 -26.756887             3\n",
              "462643 -13.788918 -13.168706             0\n",
              "466315  30.637024   9.881070             1\n",
              "461735   4.394300  80.183800             1\n",
              "462669  -4.500636  11.605991             0"
            ]
          },
          "metadata": {
            "tags": []
          },
          "execution_count": 109
        }
      ]
    },
    {
      "cell_type": "code",
      "metadata": {
        "colab": {
          "base_uri": "https://localhost:8080/",
          "height": 515
        },
        "id": "LftB7y7j-Lg_",
        "outputId": "6a2c11cb-fae6-4550-d3a2-4100274238a0"
      },
      "source": [
        "plt.figure(figsize=(10, 8))\n",
        "sns.scatterplot(x=\"e1\", y=\"e2\", data=tdata, hue='segmentation', alpha=0.2)"
      ],
      "execution_count": 110,
      "outputs": [
        {
          "output_type": "execute_result",
          "data": {
            "text/plain": [
              "<matplotlib.axes._subplots.AxesSubplot at 0x7f16cd9fa490>"
            ]
          },
          "metadata": {
            "tags": []
          },
          "execution_count": 110
        },
        {
          "output_type": "display_data",
          "data": {
            "image/png": "[encoded data removed]",
            "text/plain": [
              "<Figure size 720x576 with 1 Axes>"
            ]
          },
          "metadata": {
            "tags": [],
            "needs_background": "light"
          }
        }
      ]
    },
    {
      "cell_type": "markdown",
      "metadata": {
        "id": "b_pgBVUB-Tdz"
      },
      "source": [
        "##### Kmeans"
      ]
    },
    {
      "cell_type": "code",
      "metadata": {
        "id": "2REjlKO5-Qga"
      },
      "source": [
        "KRANGE = range(2,10)\n",
        "\n",
        "# storage\n",
        "inertia = []\n",
        "silo = []\n",
        "\n",
        "for k in KRANGE:\n",
        "  km = KMeans(k)\n",
        "  km.fit(tdata)\n",
        "  labs = km.predict(tdata)\n",
        "  inertia.append(km.inertia_)\n",
        "  silo.append(silhouette_score(tdata, labs))"
      ],
      "execution_count": 111,
      "outputs": []
    },
    {
      "cell_type": "code",
      "metadata": {
        "colab": {
          "base_uri": "https://localhost:8080/",
          "height": 336
        },
        "id": "qeaKbn-V-o3V",
        "outputId": "63abf5b9-89b3-4875-94e2-b06e9bbeeb8d"
      },
      "source": [
        "plt.figure(figsize=(15,5))\n",
        "\n",
        "\n",
        "plt.subplot(1, 2, 1)\n",
        "plt.title(\"Inertia\")\n",
        "sns.lineplot(KRANGE, inertia)\n",
        "\n",
        "plt.subplot(1, 2, 2)\n",
        "plt.title(\"Silohouette Score\")\n",
        "sns.lineplot(KRANGE, silo)\n",
        "\n",
        "plt.show();"
      ],
      "execution_count": 112,
      "outputs": [
        {
          "output_type": "display_data",
          "data": {
            "image/png": "[encoded data removed]",
            "text/plain": [
              "<Figure size 1080x360 with 2 Axes>"
            ]
          },
          "metadata": {
            "tags": [],
            "needs_background": "light"
          }
        }
      ]
    },
    {
      "cell_type": "code",
      "metadata": {
        "colab": {
          "base_uri": "https://localhost:8080/"
        },
        "id": "e9CmpQjc-pmS",
        "outputId": "48c8520b-7440-48e2-86a9-14747f72df2a"
      },
      "source": [
        "# get the model\n",
        "k3 = KMeans(3)\n",
        "tk3 = k3.fit_predict(tdata)\n",
        "\n",
        "# metrics\n",
        "tk3_s = silhouette_score(tdata, tk3)\n",
        "tk3_ssamps = silhouette_samples(tdata, tk3)\n",
        "np.unique(tk3)"
      ],
      "execution_count": 113,
      "outputs": [
        {
          "output_type": "execute_result",
          "data": {
            "text/plain": [
              "array([0, 1, 2], dtype=int32)"
            ]
          },
          "metadata": {
            "tags": []
          },
          "execution_count": 113
        }
      ]
    },
    {
      "cell_type": "code",
      "metadata": {
        "colab": {
          "base_uri": "https://localhost:8080/",
          "height": 350
        },
        "id": "x_3tE8u4-0Ku",
        "outputId": "250bbc77-020c-421c-8cbd-07e4a0e38689"
      },
      "source": [
        "skplt.metrics.plot_silhouette(sdf, tk3, title=\"Kmeans-3\", figsize=(15,5))\n",
        "plt.show();"
      ],
      "execution_count": 115,
      "outputs": [
        {
          "output_type": "display_data",
          "data": {
            "image/png": "[encoded data removed]",
            "text/plain": [
              "<Figure size 1080x360 with 1 Axes>"
            ]
          },
          "metadata": {
            "tags": [],
            "needs_background": "light"
          }
        }
      ]
    }
  ]
}